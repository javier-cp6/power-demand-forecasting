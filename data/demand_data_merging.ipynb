{
 "cells": [
  {
   "cell_type": "markdown",
   "id": "8452af35-3fb6-4b03-808d-531d537745b6",
   "metadata": {},
   "source": [
    "# Demand data merging"
   ]
  },
  {
   "cell_type": "markdown",
   "id": "b07758f8-a54f-4160-82bc-7f053c1cb65f",
   "metadata": {},
   "source": [
    "In this notebook, the three sources of demand data ([total power dispatch](./etl_total_demand.ipynb), [SEIN demand](./etl_sein_demand.ipynb), and [peak demand](./etl_peak_demand.ipynb))  are merged into a single dataset."
   ]
  },
  {
   "cell_type": "code",
   "execution_count": 39,
   "id": "e329c5d7-c1c1-458c-917f-a06beac834cf",
   "metadata": {
    "tags": []
   },
   "outputs": [],
   "source": [
    "import pandas as pd\n",
    "import matplotlib.pyplot as plt\n",
    "import numpy as np\n",
    "from sklearn.metrics import mean_squared_error, accuracy_score\n",
    "from pandas.tseries.holiday import Easter\n",
    "import os\n",
    "import sagemaker\n",
    "from sagemaker import get_execution_role"
   ]
  },
  {
   "cell_type": "markdown",
   "id": "c6e27b63-60c4-4ec0-b40f-5ff2bdc26165",
   "metadata": {
    "jp-MarkdownHeadingCollapsed": true,
    "tags": []
   },
   "source": [
    "## SEIN peak demand data (collected from meters)"
   ]
  },
  {
   "cell_type": "code",
   "execution_count": 3,
   "id": "439324e3-4792-42fc-9912-a5c67159b332",
   "metadata": {
    "tags": []
   },
   "outputs": [
    {
     "name": "stdout",
     "output_type": "stream",
     "text": [
      "<class 'pandas.core.frame.DataFrame'>\n",
      "RangeIndex: 706944 entries, 0 to 706943\n",
      "Data columns (total 7 columns):\n",
      " #   Column               Non-Null Count   Dtype  \n",
      "---  ------               --------------   -----  \n",
      " 0   N° de Registos/MES   706944 non-null  int64  \n",
      " 1   Fecha/Hora           706944 non-null  object \n",
      " 2   Total (MW)           706944 non-null  float64\n",
      " 3   Importación (MW)     706944 non-null  float64\n",
      " 4   Exportación (MW)     706944 non-null  float64\n",
      " 5   Máxima Demanda (MW)  706944 non-null  float64\n",
      " 6   filename             706944 non-null  object \n",
      "dtypes: float64(4), int64(1), object(2)\n",
      "memory usage: 37.8+ MB\n"
     ]
    }
   ],
   "source": [
    "df = pd.read_csv(\"./peak_demand.csv\" )\n",
    "df.info()"
   ]
  },
  {
   "cell_type": "code",
   "execution_count": 4,
   "id": "92006498-5ae6-4931-b313-94bab4c131ba",
   "metadata": {
    "tags": []
   },
   "outputs": [
    {
     "data": {
      "text/html": [
       "<div>\n",
       "<style scoped>\n",
       "    .dataframe tbody tr th:only-of-type {\n",
       "        vertical-align: middle;\n",
       "    }\n",
       "\n",
       "    .dataframe tbody tr th {\n",
       "        vertical-align: top;\n",
       "    }\n",
       "\n",
       "    .dataframe thead th {\n",
       "        text-align: right;\n",
       "    }\n",
       "</style>\n",
       "<table border=\"1\" class=\"dataframe\">\n",
       "  <thead>\n",
       "    <tr style=\"text-align: right;\">\n",
       "      <th></th>\n",
       "      <th>N° de Registos/MES</th>\n",
       "      <th>Fecha/Hora</th>\n",
       "      <th>Total (MW)</th>\n",
       "      <th>Importación (MW)</th>\n",
       "      <th>Exportación (MW)</th>\n",
       "      <th>Máxima Demanda (MW)</th>\n",
       "      <th>filename</th>\n",
       "    </tr>\n",
       "  </thead>\n",
       "  <tbody>\n",
       "    <tr>\n",
       "      <th>0</th>\n",
       "      <td>1</td>\n",
       "      <td>27/10/2011 19:00</td>\n",
       "      <td>4787.86208</td>\n",
       "      <td>0.0</td>\n",
       "      <td>0.0</td>\n",
       "      <td>4787.86208</td>\n",
       "      <td>ranking_demand_2011-10.xlsx</td>\n",
       "    </tr>\n",
       "    <tr>\n",
       "      <th>1</th>\n",
       "      <td>2</td>\n",
       "      <td>24/10/2011 19:00</td>\n",
       "      <td>4785.41497</td>\n",
       "      <td>0.0</td>\n",
       "      <td>0.0</td>\n",
       "      <td>4785.41497</td>\n",
       "      <td>ranking_demand_2011-10.xlsx</td>\n",
       "    </tr>\n",
       "    <tr>\n",
       "      <th>2</th>\n",
       "      <td>3</td>\n",
       "      <td>26/10/2011 19:15</td>\n",
       "      <td>4777.58864</td>\n",
       "      <td>0.0</td>\n",
       "      <td>0.0</td>\n",
       "      <td>4777.58864</td>\n",
       "      <td>ranking_demand_2011-10.xlsx</td>\n",
       "    </tr>\n",
       "    <tr>\n",
       "      <th>3</th>\n",
       "      <td>4</td>\n",
       "      <td>26/10/2011 19:30</td>\n",
       "      <td>4777.26644</td>\n",
       "      <td>0.0</td>\n",
       "      <td>0.0</td>\n",
       "      <td>4777.26644</td>\n",
       "      <td>ranking_demand_2011-10.xlsx</td>\n",
       "    </tr>\n",
       "    <tr>\n",
       "      <th>4</th>\n",
       "      <td>5</td>\n",
       "      <td>20/10/2011 19:00</td>\n",
       "      <td>4774.50047</td>\n",
       "      <td>0.0</td>\n",
       "      <td>0.0</td>\n",
       "      <td>4774.50047</td>\n",
       "      <td>ranking_demand_2011-10.xlsx</td>\n",
       "    </tr>\n",
       "  </tbody>\n",
       "</table>\n",
       "</div>"
      ],
      "text/plain": [
       "   N° de Registos/MES        Fecha/Hora  Total (MW)  Importación (MW)  \\\n",
       "0                   1  27/10/2011 19:00  4787.86208               0.0   \n",
       "1                   2  24/10/2011 19:00  4785.41497               0.0   \n",
       "2                   3  26/10/2011 19:15  4777.58864               0.0   \n",
       "3                   4  26/10/2011 19:30  4777.26644               0.0   \n",
       "4                   5  20/10/2011 19:00  4774.50047               0.0   \n",
       "\n",
       "   Exportación (MW)  Máxima Demanda (MW)                     filename  \n",
       "0               0.0           4787.86208  ranking_demand_2011-10.xlsx  \n",
       "1               0.0           4785.41497  ranking_demand_2011-10.xlsx  \n",
       "2               0.0           4777.58864  ranking_demand_2011-10.xlsx  \n",
       "3               0.0           4777.26644  ranking_demand_2011-10.xlsx  \n",
       "4               0.0           4774.50047  ranking_demand_2011-10.xlsx  "
      ]
     },
     "execution_count": 4,
     "metadata": {},
     "output_type": "execute_result"
    }
   ],
   "source": [
    "df.head()"
   ]
  },
  {
   "cell_type": "code",
   "execution_count": 5,
   "id": "7c965b94-78d9-4078-b7f3-da5fda2256b0",
   "metadata": {
    "tags": []
   },
   "outputs": [],
   "source": [
    "df = df.iloc[:, [1, 5]]\n",
    "df.columns = ['datetime', 'demand']\n",
    "df['datetime'] = pd.to_datetime(df['datetime'], format='%d/%m/%Y %H:%M')\n",
    "df.sort_values(by='datetime', inplace=True)"
   ]
  },
  {
   "cell_type": "code",
   "execution_count": 6,
   "id": "cbfc1318-3b22-406f-aea8-2b32a753a2e5",
   "metadata": {
    "tags": []
   },
   "outputs": [
    {
     "data": {
      "text/html": [
       "<div>\n",
       "<style scoped>\n",
       "    .dataframe tbody tr th:only-of-type {\n",
       "        vertical-align: middle;\n",
       "    }\n",
       "\n",
       "    .dataframe tbody tr th {\n",
       "        vertical-align: top;\n",
       "    }\n",
       "\n",
       "    .dataframe thead th {\n",
       "        text-align: right;\n",
       "    }\n",
       "</style>\n",
       "<table border=\"1\" class=\"dataframe\">\n",
       "  <thead>\n",
       "    <tr style=\"text-align: right;\">\n",
       "      <th></th>\n",
       "      <th>datetime</th>\n",
       "      <th>demand</th>\n",
       "    </tr>\n",
       "  </thead>\n",
       "  <tbody>\n",
       "    <tr>\n",
       "      <th>369224</th>\n",
       "      <td>2003-01-01 00:15:00</td>\n",
       "      <td>2358.98170</td>\n",
       "    </tr>\n",
       "    <tr>\n",
       "      <th>369374</th>\n",
       "      <td>2003-01-01 00:30:00</td>\n",
       "      <td>2317.31997</td>\n",
       "    </tr>\n",
       "    <tr>\n",
       "      <th>369466</th>\n",
       "      <td>2003-01-01 00:45:00</td>\n",
       "      <td>2287.14719</td>\n",
       "    </tr>\n",
       "    <tr>\n",
       "      <th>369547</th>\n",
       "      <td>2003-01-01 01:00:00</td>\n",
       "      <td>2248.64036</td>\n",
       "    </tr>\n",
       "    <tr>\n",
       "      <th>369630</th>\n",
       "      <td>2003-01-01 01:15:00</td>\n",
       "      <td>2209.47934</td>\n",
       "    </tr>\n",
       "  </tbody>\n",
       "</table>\n",
       "</div>"
      ],
      "text/plain": [
       "                  datetime      demand\n",
       "369224 2003-01-01 00:15:00  2358.98170\n",
       "369374 2003-01-01 00:30:00  2317.31997\n",
       "369466 2003-01-01 00:45:00  2287.14719\n",
       "369547 2003-01-01 01:00:00  2248.64036\n",
       "369630 2003-01-01 01:15:00  2209.47934"
      ]
     },
     "execution_count": 6,
     "metadata": {},
     "output_type": "execute_result"
    }
   ],
   "source": [
    "df.head()"
   ]
  },
  {
   "cell_type": "markdown",
   "id": "36293f54-08ac-4ba8-b0e0-ccd508376356",
   "metadata": {},
   "source": [
    "Resample demand data to 30-minute periods"
   ]
  },
  {
   "cell_type": "code",
   "execution_count": 7,
   "id": "d3e2230b-eaee-4d03-94bd-6bf82da988d0",
   "metadata": {
    "tags": []
   },
   "outputs": [],
   "source": [
    "df_resampled = df.set_index('datetime').resample(\n",
    "    '30min', label='right', closed='right')['demand'].max().reset_index()"
   ]
  },
  {
   "cell_type": "code",
   "execution_count": 8,
   "id": "6af4ff15-401d-4476-8095-052c4f1ab70e",
   "metadata": {
    "tags": []
   },
   "outputs": [],
   "source": [
    "df = pd.merge(df_resampled, df, how='left', on='datetime', suffixes=('', '_y'))\n",
    "df = df.drop('demand_y', axis=1)"
   ]
  },
  {
   "cell_type": "code",
   "execution_count": 9,
   "id": "7d35a92b-079d-493c-91f4-c7c831180f33",
   "metadata": {
    "tags": []
   },
   "outputs": [
    {
     "data": {
      "text/html": [
       "<div>\n",
       "<style scoped>\n",
       "    .dataframe tbody tr th:only-of-type {\n",
       "        vertical-align: middle;\n",
       "    }\n",
       "\n",
       "    .dataframe tbody tr th {\n",
       "        vertical-align: top;\n",
       "    }\n",
       "\n",
       "    .dataframe thead th {\n",
       "        text-align: right;\n",
       "    }\n",
       "</style>\n",
       "<table border=\"1\" class=\"dataframe\">\n",
       "  <thead>\n",
       "    <tr style=\"text-align: right;\">\n",
       "      <th></th>\n",
       "      <th>datetime</th>\n",
       "      <th>demand</th>\n",
       "    </tr>\n",
       "  </thead>\n",
       "  <tbody>\n",
       "    <tr>\n",
       "      <th>0</th>\n",
       "      <td>2003-01-01 00:30:00</td>\n",
       "      <td>2358.98170</td>\n",
       "    </tr>\n",
       "    <tr>\n",
       "      <th>1</th>\n",
       "      <td>2003-01-01 01:00:00</td>\n",
       "      <td>2287.14719</td>\n",
       "    </tr>\n",
       "    <tr>\n",
       "      <th>2</th>\n",
       "      <td>2003-01-01 01:30:00</td>\n",
       "      <td>2209.47934</td>\n",
       "    </tr>\n",
       "    <tr>\n",
       "      <th>3</th>\n",
       "      <td>2003-01-01 02:00:00</td>\n",
       "      <td>2125.32866</td>\n",
       "    </tr>\n",
       "    <tr>\n",
       "      <th>4</th>\n",
       "      <td>2003-01-01 02:30:00</td>\n",
       "      <td>2000.68435</td>\n",
       "    </tr>\n",
       "  </tbody>\n",
       "</table>\n",
       "</div>"
      ],
      "text/plain": [
       "             datetime      demand\n",
       "0 2003-01-01 00:30:00  2358.98170\n",
       "1 2003-01-01 01:00:00  2287.14719\n",
       "2 2003-01-01 01:30:00  2209.47934\n",
       "3 2003-01-01 02:00:00  2125.32866\n",
       "4 2003-01-01 02:30:00  2000.68435"
      ]
     },
     "execution_count": 9,
     "metadata": {},
     "output_type": "execute_result"
    }
   ],
   "source": [
    "df.head()"
   ]
  },
  {
   "cell_type": "code",
   "execution_count": 10,
   "id": "c334fc23-746a-4329-865f-8e0c326fd9ca",
   "metadata": {
    "tags": []
   },
   "outputs": [],
   "source": [
    "df_peak = df.copy()"
   ]
  },
  {
   "cell_type": "markdown",
   "id": "25af518b-53c7-4f44-a62c-78b7b3440930",
   "metadata": {
    "jp-MarkdownHeadingCollapsed": true,
    "tags": []
   },
   "source": [
    "## SEIN power demand data (from SCADA systems)"
   ]
  },
  {
   "cell_type": "code",
   "execution_count": 11,
   "id": "fc6075f4-61df-4624-932c-1ee9665728eb",
   "metadata": {
    "tags": []
   },
   "outputs": [
    {
     "name": "stdout",
     "output_type": "stream",
     "text": [
      "<class 'pandas.core.frame.DataFrame'>\n",
      "RangeIndex: 127056 entries, 0 to 127055\n",
      "Data columns (total 5 columns):\n",
      " #   Column                 Non-Null Count   Dtype  \n",
      "---  ------                 --------------   -----  \n",
      " 0   datetime               127056 non-null  object \n",
      " 1   TOTAL GENERACIÓN COES  126912 non-null  float64\n",
      " 2   IMPORTACIÓN  ECUADOR   124657 non-null  float64\n",
      " 3   TOTAL SEIN             126912 non-null  float64\n",
      " 4   TOTAL\n",
      "NO COES          126912 non-null  float64\n",
      "dtypes: float64(4), object(1)\n",
      "memory usage: 4.8+ MB\n"
     ]
    }
   ],
   "source": [
    "df = pd.read_csv(\"./sein_demand.csv\")\n",
    "df.info()"
   ]
  },
  {
   "cell_type": "code",
   "execution_count": 12,
   "id": "f02775f8-73fa-4554-8ee3-baa829e5690f",
   "metadata": {
    "tags": []
   },
   "outputs": [
    {
     "data": {
      "text/html": [
       "<div>\n",
       "<style scoped>\n",
       "    .dataframe tbody tr th:only-of-type {\n",
       "        vertical-align: middle;\n",
       "    }\n",
       "\n",
       "    .dataframe tbody tr th {\n",
       "        vertical-align: top;\n",
       "    }\n",
       "\n",
       "    .dataframe thead th {\n",
       "        text-align: right;\n",
       "    }\n",
       "</style>\n",
       "<table border=\"1\" class=\"dataframe\">\n",
       "  <thead>\n",
       "    <tr style=\"text-align: right;\">\n",
       "      <th></th>\n",
       "      <th>datetime</th>\n",
       "      <th>TOTAL GENERACIÓN COES</th>\n",
       "      <th>IMPORTACIÓN  ECUADOR</th>\n",
       "      <th>TOTAL SEIN</th>\n",
       "      <th>TOTAL\\nNO COES</th>\n",
       "    </tr>\n",
       "  </thead>\n",
       "  <tbody>\n",
       "    <tr>\n",
       "      <th>0</th>\n",
       "      <td>2016-01-01 00:30:00</td>\n",
       "      <td>5028.33192</td>\n",
       "      <td>41.77</td>\n",
       "      <td>4986.56192</td>\n",
       "      <td>22.626</td>\n",
       "    </tr>\n",
       "    <tr>\n",
       "      <th>1</th>\n",
       "      <td>2016-01-01 01:00:00</td>\n",
       "      <td>4948.64387</td>\n",
       "      <td>41.23</td>\n",
       "      <td>4907.41387</td>\n",
       "      <td>23.637</td>\n",
       "    </tr>\n",
       "    <tr>\n",
       "      <th>2</th>\n",
       "      <td>2016-01-01 01:30:00</td>\n",
       "      <td>4817.33694</td>\n",
       "      <td>38.79</td>\n",
       "      <td>4778.54694</td>\n",
       "      <td>23.007</td>\n",
       "    </tr>\n",
       "    <tr>\n",
       "      <th>3</th>\n",
       "      <td>2016-01-01 02:00:00</td>\n",
       "      <td>4702.32782</td>\n",
       "      <td>40.13</td>\n",
       "      <td>4662.19782</td>\n",
       "      <td>22.829</td>\n",
       "    </tr>\n",
       "    <tr>\n",
       "      <th>4</th>\n",
       "      <td>2016-01-01 02:30:00</td>\n",
       "      <td>4562.66431</td>\n",
       "      <td>39.50</td>\n",
       "      <td>4523.16431</td>\n",
       "      <td>22.840</td>\n",
       "    </tr>\n",
       "  </tbody>\n",
       "</table>\n",
       "</div>"
      ],
      "text/plain": [
       "              datetime  TOTAL GENERACIÓN COES  IMPORTACIÓN  ECUADOR  \\\n",
       "0  2016-01-01 00:30:00             5028.33192                 41.77   \n",
       "1  2016-01-01 01:00:00             4948.64387                 41.23   \n",
       "2  2016-01-01 01:30:00             4817.33694                 38.79   \n",
       "3  2016-01-01 02:00:00             4702.32782                 40.13   \n",
       "4  2016-01-01 02:30:00             4562.66431                 39.50   \n",
       "\n",
       "   TOTAL SEIN  TOTAL\\nNO COES  \n",
       "0  4986.56192          22.626  \n",
       "1  4907.41387          23.637  \n",
       "2  4778.54694          23.007  \n",
       "3  4662.19782          22.829  \n",
       "4  4523.16431          22.840  "
      ]
     },
     "execution_count": 12,
     "metadata": {},
     "output_type": "execute_result"
    }
   ],
   "source": [
    "df.head()"
   ]
  },
  {
   "cell_type": "code",
   "execution_count": 13,
   "id": "9703fda9-291b-4013-8836-f59a4cbbd62f",
   "metadata": {
    "tags": []
   },
   "outputs": [],
   "source": [
    "df.columns = ['datetime', 'coes_demand', 'import_exports', 'sein_demand', 'non_coes_demand']\n",
    "df['datetime'] = pd.to_datetime(df['datetime'])\n",
    "df['import_exports'] = (df['coes_demand'] - df['sein_demand'])\n",
    "df.sort_values(by='datetime', inplace=True)"
   ]
  },
  {
   "cell_type": "code",
   "execution_count": 14,
   "id": "ea3f2cf9-b7a3-4719-b2c4-5c70ecaab845",
   "metadata": {
    "tags": []
   },
   "outputs": [
    {
     "data": {
      "text/html": [
       "<div>\n",
       "<style scoped>\n",
       "    .dataframe tbody tr th:only-of-type {\n",
       "        vertical-align: middle;\n",
       "    }\n",
       "\n",
       "    .dataframe tbody tr th {\n",
       "        vertical-align: top;\n",
       "    }\n",
       "\n",
       "    .dataframe thead th {\n",
       "        text-align: right;\n",
       "    }\n",
       "</style>\n",
       "<table border=\"1\" class=\"dataframe\">\n",
       "  <thead>\n",
       "    <tr style=\"text-align: right;\">\n",
       "      <th></th>\n",
       "      <th>datetime</th>\n",
       "      <th>coes_demand</th>\n",
       "      <th>import_exports</th>\n",
       "      <th>sein_demand</th>\n",
       "      <th>non_coes_demand</th>\n",
       "    </tr>\n",
       "  </thead>\n",
       "  <tbody>\n",
       "    <tr>\n",
       "      <th>0</th>\n",
       "      <td>2016-01-01 00:30:00</td>\n",
       "      <td>5028.33192</td>\n",
       "      <td>41.77</td>\n",
       "      <td>4986.56192</td>\n",
       "      <td>22.626</td>\n",
       "    </tr>\n",
       "    <tr>\n",
       "      <th>1</th>\n",
       "      <td>2016-01-01 01:00:00</td>\n",
       "      <td>4948.64387</td>\n",
       "      <td>41.23</td>\n",
       "      <td>4907.41387</td>\n",
       "      <td>23.637</td>\n",
       "    </tr>\n",
       "    <tr>\n",
       "      <th>2</th>\n",
       "      <td>2016-01-01 01:30:00</td>\n",
       "      <td>4817.33694</td>\n",
       "      <td>38.79</td>\n",
       "      <td>4778.54694</td>\n",
       "      <td>23.007</td>\n",
       "    </tr>\n",
       "    <tr>\n",
       "      <th>3</th>\n",
       "      <td>2016-01-01 02:00:00</td>\n",
       "      <td>4702.32782</td>\n",
       "      <td>40.13</td>\n",
       "      <td>4662.19782</td>\n",
       "      <td>22.829</td>\n",
       "    </tr>\n",
       "    <tr>\n",
       "      <th>4</th>\n",
       "      <td>2016-01-01 02:30:00</td>\n",
       "      <td>4562.66431</td>\n",
       "      <td>39.50</td>\n",
       "      <td>4523.16431</td>\n",
       "      <td>22.840</td>\n",
       "    </tr>\n",
       "  </tbody>\n",
       "</table>\n",
       "</div>"
      ],
      "text/plain": [
       "             datetime  coes_demand  import_exports  sein_demand  \\\n",
       "0 2016-01-01 00:30:00   5028.33192           41.77   4986.56192   \n",
       "1 2016-01-01 01:00:00   4948.64387           41.23   4907.41387   \n",
       "2 2016-01-01 01:30:00   4817.33694           38.79   4778.54694   \n",
       "3 2016-01-01 02:00:00   4702.32782           40.13   4662.19782   \n",
       "4 2016-01-01 02:30:00   4562.66431           39.50   4523.16431   \n",
       "\n",
       "   non_coes_demand  \n",
       "0           22.626  \n",
       "1           23.637  \n",
       "2           23.007  \n",
       "3           22.829  \n",
       "4           22.840  "
      ]
     },
     "execution_count": 14,
     "metadata": {},
     "output_type": "execute_result"
    }
   ],
   "source": [
    "df.head()"
   ]
  },
  {
   "cell_type": "code",
   "execution_count": 15,
   "id": "40ffe059-a51b-4460-9d18-422662cbb398",
   "metadata": {
    "tags": []
   },
   "outputs": [],
   "source": [
    "df_sein = df.copy()"
   ]
  },
  {
   "cell_type": "markdown",
   "id": "27f56d6d-d0b7-4d46-a75b-2d6e6ca731a2",
   "metadata": {
    "jp-MarkdownHeadingCollapsed": true,
    "tags": []
   },
   "source": [
    "## Total power dispatch of COES and non-COES generators (total demand)"
   ]
  },
  {
   "cell_type": "code",
   "execution_count": 16,
   "id": "6fd9bf0b-8335-48b4-a9ce-b4958b65e3be",
   "metadata": {
    "tags": []
   },
   "outputs": [
    {
     "name": "stdout",
     "output_type": "stream",
     "text": [
      "<class 'pandas.core.frame.DataFrame'>\n",
      "RangeIndex: 350592 entries, 0 to 350591\n",
      "Data columns (total 4 columns):\n",
      " #   Column         Non-Null Count   Dtype  \n",
      "---  ------         --------------   -----  \n",
      " 0   FECHA          350592 non-null  object \n",
      " 1   EJECUTADO      350592 non-null  float64\n",
      " 2   PROG. DIARIA   349728 non-null  float64\n",
      " 3   PROG. SEMANAL  350592 non-null  float64\n",
      "dtypes: float64(3), object(1)\n",
      "memory usage: 10.7+ MB\n"
     ]
    }
   ],
   "source": [
    "df = pd.read_csv(\"./total_demand.csv\")\n",
    "df.info()"
   ]
  },
  {
   "cell_type": "code",
   "execution_count": 17,
   "id": "5004262e-abb9-491d-8427-2fc14cee051d",
   "metadata": {
    "tags": []
   },
   "outputs": [
    {
     "data": {
      "text/html": [
       "<div>\n",
       "<style scoped>\n",
       "    .dataframe tbody tr th:only-of-type {\n",
       "        vertical-align: middle;\n",
       "    }\n",
       "\n",
       "    .dataframe tbody tr th {\n",
       "        vertical-align: top;\n",
       "    }\n",
       "\n",
       "    .dataframe thead th {\n",
       "        text-align: right;\n",
       "    }\n",
       "</style>\n",
       "<table border=\"1\" class=\"dataframe\">\n",
       "  <thead>\n",
       "    <tr style=\"text-align: right;\">\n",
       "      <th></th>\n",
       "      <th>FECHA</th>\n",
       "      <th>EJECUTADO</th>\n",
       "      <th>PROG. DIARIA</th>\n",
       "      <th>PROG. SEMANAL</th>\n",
       "    </tr>\n",
       "  </thead>\n",
       "  <tbody>\n",
       "    <tr>\n",
       "      <th>350587</th>\n",
       "      <td>28/02/2023 22:00</td>\n",
       "      <td>7275.16939</td>\n",
       "      <td>7317.62767</td>\n",
       "      <td>7443.17706</td>\n",
       "    </tr>\n",
       "    <tr>\n",
       "      <th>350588</th>\n",
       "      <td>28/02/2023 22:30</td>\n",
       "      <td>7246.85625</td>\n",
       "      <td>7287.74214</td>\n",
       "      <td>7335.39421</td>\n",
       "    </tr>\n",
       "    <tr>\n",
       "      <th>350589</th>\n",
       "      <td>28/02/2023 23:00</td>\n",
       "      <td>7012.36879</td>\n",
       "      <td>7122.78297</td>\n",
       "      <td>7289.98850</td>\n",
       "    </tr>\n",
       "    <tr>\n",
       "      <th>350590</th>\n",
       "      <td>28/02/2023 23:30</td>\n",
       "      <td>6864.95446</td>\n",
       "      <td>6903.65765</td>\n",
       "      <td>6844.23093</td>\n",
       "    </tr>\n",
       "    <tr>\n",
       "      <th>350591</th>\n",
       "      <td>01/03/2023 00:00</td>\n",
       "      <td>6700.18698</td>\n",
       "      <td>6733.97599</td>\n",
       "      <td>6835.07893</td>\n",
       "    </tr>\n",
       "  </tbody>\n",
       "</table>\n",
       "</div>"
      ],
      "text/plain": [
       "                   FECHA   EJECUTADO  PROG. DIARIA  PROG. SEMANAL\n",
       "350587  28/02/2023 22:00  7275.16939    7317.62767     7443.17706\n",
       "350588  28/02/2023 22:30  7246.85625    7287.74214     7335.39421\n",
       "350589  28/02/2023 23:00  7012.36879    7122.78297     7289.98850\n",
       "350590  28/02/2023 23:30  6864.95446    6903.65765     6844.23093\n",
       "350591  01/03/2023 00:00  6700.18698    6733.97599     6835.07893"
      ]
     },
     "execution_count": 17,
     "metadata": {},
     "output_type": "execute_result"
    }
   ],
   "source": [
    "df.tail()"
   ]
  },
  {
   "cell_type": "code",
   "execution_count": 18,
   "id": "4d774ea7-a407-4d95-85fc-0d11500563b7",
   "metadata": {
    "tags": []
   },
   "outputs": [],
   "source": [
    "df.columns = ['datetime', 'total_demand', 'total_demand_daily_plan', 'total_demand_weekly_plan']\n",
    "df['datetime'] = pd.to_datetime(df['datetime'], format='%d/%m/%Y %H:%M')\n",
    "df.sort_values(by='datetime', inplace=True)"
   ]
  },
  {
   "cell_type": "code",
   "execution_count": 19,
   "id": "eba572d1-e8e3-4c32-893b-0c72ad144323",
   "metadata": {
    "tags": []
   },
   "outputs": [
    {
     "data": {
      "text/html": [
       "<div>\n",
       "<style scoped>\n",
       "    .dataframe tbody tr th:only-of-type {\n",
       "        vertical-align: middle;\n",
       "    }\n",
       "\n",
       "    .dataframe tbody tr th {\n",
       "        vertical-align: top;\n",
       "    }\n",
       "\n",
       "    .dataframe thead th {\n",
       "        text-align: right;\n",
       "    }\n",
       "</style>\n",
       "<table border=\"1\" class=\"dataframe\">\n",
       "  <thead>\n",
       "    <tr style=\"text-align: right;\">\n",
       "      <th></th>\n",
       "      <th>datetime</th>\n",
       "      <th>total_demand</th>\n",
       "      <th>total_demand_daily_plan</th>\n",
       "      <th>total_demand_weekly_plan</th>\n",
       "    </tr>\n",
       "  </thead>\n",
       "  <tbody>\n",
       "    <tr>\n",
       "      <th>350587</th>\n",
       "      <td>2023-02-28 22:00:00</td>\n",
       "      <td>7275.16939</td>\n",
       "      <td>7317.62767</td>\n",
       "      <td>7443.17706</td>\n",
       "    </tr>\n",
       "    <tr>\n",
       "      <th>350588</th>\n",
       "      <td>2023-02-28 22:30:00</td>\n",
       "      <td>7246.85625</td>\n",
       "      <td>7287.74214</td>\n",
       "      <td>7335.39421</td>\n",
       "    </tr>\n",
       "    <tr>\n",
       "      <th>350589</th>\n",
       "      <td>2023-02-28 23:00:00</td>\n",
       "      <td>7012.36879</td>\n",
       "      <td>7122.78297</td>\n",
       "      <td>7289.98850</td>\n",
       "    </tr>\n",
       "    <tr>\n",
       "      <th>350590</th>\n",
       "      <td>2023-02-28 23:30:00</td>\n",
       "      <td>6864.95446</td>\n",
       "      <td>6903.65765</td>\n",
       "      <td>6844.23093</td>\n",
       "    </tr>\n",
       "    <tr>\n",
       "      <th>350591</th>\n",
       "      <td>2023-03-01 00:00:00</td>\n",
       "      <td>6700.18698</td>\n",
       "      <td>6733.97599</td>\n",
       "      <td>6835.07893</td>\n",
       "    </tr>\n",
       "  </tbody>\n",
       "</table>\n",
       "</div>"
      ],
      "text/plain": [
       "                  datetime  total_demand  total_demand_daily_plan  \\\n",
       "350587 2023-02-28 22:00:00    7275.16939               7317.62767   \n",
       "350588 2023-02-28 22:30:00    7246.85625               7287.74214   \n",
       "350589 2023-02-28 23:00:00    7012.36879               7122.78297   \n",
       "350590 2023-02-28 23:30:00    6864.95446               6903.65765   \n",
       "350591 2023-03-01 00:00:00    6700.18698               6733.97599   \n",
       "\n",
       "        total_demand_weekly_plan  \n",
       "350587                7443.17706  \n",
       "350588                7335.39421  \n",
       "350589                7289.98850  \n",
       "350590                6844.23093  \n",
       "350591                6835.07893  "
      ]
     },
     "execution_count": 19,
     "metadata": {},
     "output_type": "execute_result"
    }
   ],
   "source": [
    "df.tail()"
   ]
  },
  {
   "cell_type": "code",
   "execution_count": 20,
   "id": "25c0906e-17ca-4c80-bc17-85e73aa0f64d",
   "metadata": {
    "tags": []
   },
   "outputs": [],
   "source": [
    "df_total = df.copy()"
   ]
  },
  {
   "cell_type": "markdown",
   "id": "9832f4e5-32bb-484e-811d-6b238a8cace4",
   "metadata": {
    "tags": []
   },
   "source": [
    "## Merge demand data"
   ]
  },
  {
   "cell_type": "code",
   "execution_count": 21,
   "id": "d0949737-8c3f-4cfb-8767-3c2a3eed0fe7",
   "metadata": {
    "tags": []
   },
   "outputs": [
    {
     "data": {
      "text/html": [
       "<div>\n",
       "<style scoped>\n",
       "    .dataframe tbody tr th:only-of-type {\n",
       "        vertical-align: middle;\n",
       "    }\n",
       "\n",
       "    .dataframe tbody tr th {\n",
       "        vertical-align: top;\n",
       "    }\n",
       "\n",
       "    .dataframe thead th {\n",
       "        text-align: right;\n",
       "    }\n",
       "</style>\n",
       "<table border=\"1\" class=\"dataframe\">\n",
       "  <thead>\n",
       "    <tr style=\"text-align: right;\">\n",
       "      <th></th>\n",
       "      <th>datetime</th>\n",
       "      <th>demand</th>\n",
       "      <th>coes_demand</th>\n",
       "      <th>import_exports</th>\n",
       "      <th>sein_demand</th>\n",
       "      <th>non_coes_demand</th>\n",
       "      <th>total_demand</th>\n",
       "      <th>total_demand_daily_plan</th>\n",
       "      <th>total_demand_weekly_plan</th>\n",
       "    </tr>\n",
       "  </thead>\n",
       "  <tbody>\n",
       "    <tr>\n",
       "      <th>0</th>\n",
       "      <td>2003-01-01 00:30:00</td>\n",
       "      <td>2358.98170</td>\n",
       "      <td>NaN</td>\n",
       "      <td>NaN</td>\n",
       "      <td>NaN</td>\n",
       "      <td>NaN</td>\n",
       "      <td>2306.76635</td>\n",
       "      <td>2304.71554</td>\n",
       "      <td>2292.96587</td>\n",
       "    </tr>\n",
       "    <tr>\n",
       "      <th>1</th>\n",
       "      <td>2003-01-01 01:00:00</td>\n",
       "      <td>2287.14719</td>\n",
       "      <td>NaN</td>\n",
       "      <td>NaN</td>\n",
       "      <td>NaN</td>\n",
       "      <td>NaN</td>\n",
       "      <td>2237.36810</td>\n",
       "      <td>2208.29031</td>\n",
       "      <td>2225.53541</td>\n",
       "    </tr>\n",
       "    <tr>\n",
       "      <th>2</th>\n",
       "      <td>2003-01-01 01:30:00</td>\n",
       "      <td>2209.47934</td>\n",
       "      <td>NaN</td>\n",
       "      <td>NaN</td>\n",
       "      <td>NaN</td>\n",
       "      <td>NaN</td>\n",
       "      <td>2150.86425</td>\n",
       "      <td>2125.24247</td>\n",
       "      <td>2147.93319</td>\n",
       "    </tr>\n",
       "    <tr>\n",
       "      <th>3</th>\n",
       "      <td>2003-01-01 02:00:00</td>\n",
       "      <td>2125.32866</td>\n",
       "      <td>NaN</td>\n",
       "      <td>NaN</td>\n",
       "      <td>NaN</td>\n",
       "      <td>NaN</td>\n",
       "      <td>2063.83669</td>\n",
       "      <td>2090.81638</td>\n",
       "      <td>2092.68125</td>\n",
       "    </tr>\n",
       "    <tr>\n",
       "      <th>4</th>\n",
       "      <td>2003-01-01 02:30:00</td>\n",
       "      <td>2000.68435</td>\n",
       "      <td>NaN</td>\n",
       "      <td>NaN</td>\n",
       "      <td>NaN</td>\n",
       "      <td>NaN</td>\n",
       "      <td>1990.51493</td>\n",
       "      <td>2035.67195</td>\n",
       "      <td>2015.89887</td>\n",
       "    </tr>\n",
       "    <tr>\n",
       "      <th>...</th>\n",
       "      <td>...</td>\n",
       "      <td>...</td>\n",
       "      <td>...</td>\n",
       "      <td>...</td>\n",
       "      <td>...</td>\n",
       "      <td>...</td>\n",
       "      <td>...</td>\n",
       "      <td>...</td>\n",
       "      <td>...</td>\n",
       "    </tr>\n",
       "    <tr>\n",
       "      <th>353467</th>\n",
       "      <td>2023-02-28 22:00:00</td>\n",
       "      <td>7213.33052</td>\n",
       "      <td>7152.17681</td>\n",
       "      <td>0.0</td>\n",
       "      <td>7152.17681</td>\n",
       "      <td>122.99258</td>\n",
       "      <td>7275.16939</td>\n",
       "      <td>7317.62767</td>\n",
       "      <td>7443.17706</td>\n",
       "    </tr>\n",
       "    <tr>\n",
       "      <th>353468</th>\n",
       "      <td>2023-02-28 22:30:00</td>\n",
       "      <td>7221.76318</td>\n",
       "      <td>7148.14381</td>\n",
       "      <td>0.0</td>\n",
       "      <td>7148.14381</td>\n",
       "      <td>98.71244</td>\n",
       "      <td>7246.85625</td>\n",
       "      <td>7287.74214</td>\n",
       "      <td>7335.39421</td>\n",
       "    </tr>\n",
       "    <tr>\n",
       "      <th>353469</th>\n",
       "      <td>2023-02-28 23:00:00</td>\n",
       "      <td>7116.23375</td>\n",
       "      <td>6915.98981</td>\n",
       "      <td>0.0</td>\n",
       "      <td>6915.98981</td>\n",
       "      <td>96.37898</td>\n",
       "      <td>7012.36879</td>\n",
       "      <td>7122.78297</td>\n",
       "      <td>7289.98850</td>\n",
       "    </tr>\n",
       "    <tr>\n",
       "      <th>353470</th>\n",
       "      <td>2023-02-28 23:30:00</td>\n",
       "      <td>6881.04613</td>\n",
       "      <td>6768.54381</td>\n",
       "      <td>0.0</td>\n",
       "      <td>6768.54381</td>\n",
       "      <td>96.41065</td>\n",
       "      <td>6864.95446</td>\n",
       "      <td>6903.65765</td>\n",
       "      <td>6844.23093</td>\n",
       "    </tr>\n",
       "    <tr>\n",
       "      <th>353471</th>\n",
       "      <td>2023-03-01 00:00:00</td>\n",
       "      <td>6662.98518</td>\n",
       "      <td>6603.78881</td>\n",
       "      <td>0.0</td>\n",
       "      <td>6603.78881</td>\n",
       "      <td>96.39817</td>\n",
       "      <td>6700.18698</td>\n",
       "      <td>6733.97599</td>\n",
       "      <td>6835.07893</td>\n",
       "    </tr>\n",
       "  </tbody>\n",
       "</table>\n",
       "<p>353472 rows × 9 columns</p>\n",
       "</div>"
      ],
      "text/plain": [
       "                  datetime      demand  coes_demand  import_exports  \\\n",
       "0      2003-01-01 00:30:00  2358.98170          NaN             NaN   \n",
       "1      2003-01-01 01:00:00  2287.14719          NaN             NaN   \n",
       "2      2003-01-01 01:30:00  2209.47934          NaN             NaN   \n",
       "3      2003-01-01 02:00:00  2125.32866          NaN             NaN   \n",
       "4      2003-01-01 02:30:00  2000.68435          NaN             NaN   \n",
       "...                    ...         ...          ...             ...   \n",
       "353467 2023-02-28 22:00:00  7213.33052   7152.17681             0.0   \n",
       "353468 2023-02-28 22:30:00  7221.76318   7148.14381             0.0   \n",
       "353469 2023-02-28 23:00:00  7116.23375   6915.98981             0.0   \n",
       "353470 2023-02-28 23:30:00  6881.04613   6768.54381             0.0   \n",
       "353471 2023-03-01 00:00:00  6662.98518   6603.78881             0.0   \n",
       "\n",
       "        sein_demand  non_coes_demand  total_demand  total_demand_daily_plan  \\\n",
       "0               NaN              NaN    2306.76635               2304.71554   \n",
       "1               NaN              NaN    2237.36810               2208.29031   \n",
       "2               NaN              NaN    2150.86425               2125.24247   \n",
       "3               NaN              NaN    2063.83669               2090.81638   \n",
       "4               NaN              NaN    1990.51493               2035.67195   \n",
       "...             ...              ...           ...                      ...   \n",
       "353467   7152.17681        122.99258    7275.16939               7317.62767   \n",
       "353468   7148.14381         98.71244    7246.85625               7287.74214   \n",
       "353469   6915.98981         96.37898    7012.36879               7122.78297   \n",
       "353470   6768.54381         96.41065    6864.95446               6903.65765   \n",
       "353471   6603.78881         96.39817    6700.18698               6733.97599   \n",
       "\n",
       "        total_demand_weekly_plan  \n",
       "0                     2292.96587  \n",
       "1                     2225.53541  \n",
       "2                     2147.93319  \n",
       "3                     2092.68125  \n",
       "4                     2015.89887  \n",
       "...                          ...  \n",
       "353467                7443.17706  \n",
       "353468                7335.39421  \n",
       "353469                7289.98850  \n",
       "353470                6844.23093  \n",
       "353471                6835.07893  \n",
       "\n",
       "[353472 rows x 9 columns]"
      ]
     },
     "execution_count": 21,
     "metadata": {},
     "output_type": "execute_result"
    }
   ],
   "source": [
    "df = pd.merge(df_peak, df_sein, how='left', on='datetime')\n",
    "df = pd.merge(df, df_total, how='left', on='datetime')\n",
    "df"
   ]
  },
  {
   "cell_type": "code",
   "execution_count": 22,
   "id": "d19bcb66-ebf0-4847-9b07-76cf6fe045ad",
   "metadata": {
    "tags": []
   },
   "outputs": [
    {
     "name": "stdout",
     "output_type": "stream",
     "text": [
      "<class 'pandas.core.frame.DataFrame'>\n",
      "Int64Index: 353472 entries, 0 to 353471\n",
      "Data columns (total 9 columns):\n",
      " #   Column                    Non-Null Count   Dtype         \n",
      "---  ------                    --------------   -----         \n",
      " 0   datetime                  353472 non-null  datetime64[ns]\n",
      " 1   demand                    353472 non-null  float64       \n",
      " 2   coes_demand               125424 non-null  float64       \n",
      " 3   import_exports            125424 non-null  float64       \n",
      " 4   sein_demand               125424 non-null  float64       \n",
      " 5   non_coes_demand           125424 non-null  float64       \n",
      " 6   total_demand              350592 non-null  float64       \n",
      " 7   total_demand_daily_plan   349728 non-null  float64       \n",
      " 8   total_demand_weekly_plan  350592 non-null  float64       \n",
      "dtypes: datetime64[ns](1), float64(8)\n",
      "memory usage: 27.0 MB\n"
     ]
    }
   ],
   "source": [
    "df.info()"
   ]
  },
  {
   "cell_type": "markdown",
   "id": "8d7aeadc-584a-4f09-8314-3b0c2565590e",
   "metadata": {},
   "source": [
    "## Add features for working days and on-peak hours "
   ]
  },
  {
   "cell_type": "code",
   "execution_count": 23,
   "id": "d182ff23-2065-4157-a37f-b5631321e497",
   "metadata": {
    "tags": []
   },
   "outputs": [],
   "source": [
    "# Holidays\n",
    "holidays = [\"1-1\", \"5-1\", \"6-29\", \"7-28\", \"7-29\",\n",
    "            \"8-30\", \"10-8\", \"11-1\", \"12-8\", \"12-25\"]\n",
    "\n",
    "new_holidays = ['2022-08-06', '2022-12-09', '2023-08-06', '2023-12-09']\n",
    "\n",
    "start_date = df['datetime'].min().date()\n",
    "end_date = df['datetime'].max().date()\n",
    "\n",
    "easter_holidays = pd.date_range(start=start_date, end=end_date, freq=Easter())\n",
    "thursdays = pd.Series(easter_holidays - pd.Timedelta(days=3))\n",
    "fridays = pd.Series(easter_holidays - pd.Timedelta(days=2))\n",
    "thu_fri_list = pd.concat([thursdays, fridays]).tolist()\n",
    "\n",
    "\n",
    "def is_holiday(row):\n",
    "    is_holiday = False\n",
    "    month = row['datetime'].month\n",
    "    day = row['datetime'].day\n",
    "    day_of_week = row['datetime'].dayofweek\n",
    "    row_date = f\"{month}-{day}\"\n",
    "    row_datetime = pd.to_datetime(row['datetime'])\n",
    "\n",
    "    if row_date in holidays:\n",
    "        is_holiday = True\n",
    "\n",
    "    for holiday in new_holidays:\n",
    "        if str(row_datetime.date()) == holiday:\n",
    "            is_holiday = True\n",
    "\n",
    "    for day in thu_fri_list:\n",
    "        if row_datetime.date() == day.date():\n",
    "            is_holiday = True\n",
    "\n",
    "    return is_holiday\n",
    "\n",
    "\n",
    "df['holiday'] = df.apply(is_holiday, axis=1)"
   ]
  },
  {
   "cell_type": "code",
   "execution_count": 24,
   "id": "95237cb3-0c6c-4c9f-848f-695fc8484827",
   "metadata": {
    "tags": []
   },
   "outputs": [],
   "source": [
    "#  working days\n",
    "df['workday'] = ((df['datetime'].dt.dayofweek != 5) &\n",
    "                 (df['datetime'].dt.dayofweek != 6) &\n",
    "                 (df['holiday'] == False))"
   ]
  },
  {
   "cell_type": "code",
   "execution_count": 25,
   "id": "fc8940f1-8419-45c1-bc3f-1bc97881b083",
   "metadata": {
    "tags": []
   },
   "outputs": [],
   "source": [
    "#  on-peak hours\n",
    "on_peak_start_time = pd.to_datetime('17:00:00').time()\n",
    "on_peak_end_time = pd.to_datetime('23:00:00').time()\n",
    "\n",
    "df['on_peak'] = ((df['holiday'] == False) &\n",
    "                 (df['datetime'].dt.dayofweek != 6) &\n",
    "                 ((df['datetime'].dt.time > on_peak_start_time) &\n",
    "                  (df['datetime'].dt.time <= on_peak_end_time)))"
   ]
  },
  {
   "cell_type": "code",
   "execution_count": 26,
   "id": "d7259369-f3b3-42b3-9b5e-7931b849afab",
   "metadata": {
    "tags": []
   },
   "outputs": [
    {
     "data": {
      "text/html": [
       "<div>\n",
       "<style scoped>\n",
       "    .dataframe tbody tr th:only-of-type {\n",
       "        vertical-align: middle;\n",
       "    }\n",
       "\n",
       "    .dataframe tbody tr th {\n",
       "        vertical-align: top;\n",
       "    }\n",
       "\n",
       "    .dataframe thead th {\n",
       "        text-align: right;\n",
       "    }\n",
       "</style>\n",
       "<table border=\"1\" class=\"dataframe\">\n",
       "  <thead>\n",
       "    <tr style=\"text-align: right;\">\n",
       "      <th></th>\n",
       "      <th>datetime</th>\n",
       "      <th>demand</th>\n",
       "      <th>coes_demand</th>\n",
       "      <th>import_exports</th>\n",
       "      <th>sein_demand</th>\n",
       "      <th>non_coes_demand</th>\n",
       "      <th>total_demand</th>\n",
       "      <th>total_demand_daily_plan</th>\n",
       "      <th>total_demand_weekly_plan</th>\n",
       "      <th>holiday</th>\n",
       "      <th>workday</th>\n",
       "      <th>on_peak</th>\n",
       "    </tr>\n",
       "  </thead>\n",
       "  <tbody>\n",
       "    <tr>\n",
       "      <th>0</th>\n",
       "      <td>2003-01-01 00:30:00</td>\n",
       "      <td>2358.98170</td>\n",
       "      <td>NaN</td>\n",
       "      <td>NaN</td>\n",
       "      <td>NaN</td>\n",
       "      <td>NaN</td>\n",
       "      <td>2306.76635</td>\n",
       "      <td>2304.71554</td>\n",
       "      <td>2292.96587</td>\n",
       "      <td>True</td>\n",
       "      <td>False</td>\n",
       "      <td>False</td>\n",
       "    </tr>\n",
       "    <tr>\n",
       "      <th>1</th>\n",
       "      <td>2003-01-01 01:00:00</td>\n",
       "      <td>2287.14719</td>\n",
       "      <td>NaN</td>\n",
       "      <td>NaN</td>\n",
       "      <td>NaN</td>\n",
       "      <td>NaN</td>\n",
       "      <td>2237.36810</td>\n",
       "      <td>2208.29031</td>\n",
       "      <td>2225.53541</td>\n",
       "      <td>True</td>\n",
       "      <td>False</td>\n",
       "      <td>False</td>\n",
       "    </tr>\n",
       "    <tr>\n",
       "      <th>2</th>\n",
       "      <td>2003-01-01 01:30:00</td>\n",
       "      <td>2209.47934</td>\n",
       "      <td>NaN</td>\n",
       "      <td>NaN</td>\n",
       "      <td>NaN</td>\n",
       "      <td>NaN</td>\n",
       "      <td>2150.86425</td>\n",
       "      <td>2125.24247</td>\n",
       "      <td>2147.93319</td>\n",
       "      <td>True</td>\n",
       "      <td>False</td>\n",
       "      <td>False</td>\n",
       "    </tr>\n",
       "    <tr>\n",
       "      <th>3</th>\n",
       "      <td>2003-01-01 02:00:00</td>\n",
       "      <td>2125.32866</td>\n",
       "      <td>NaN</td>\n",
       "      <td>NaN</td>\n",
       "      <td>NaN</td>\n",
       "      <td>NaN</td>\n",
       "      <td>2063.83669</td>\n",
       "      <td>2090.81638</td>\n",
       "      <td>2092.68125</td>\n",
       "      <td>True</td>\n",
       "      <td>False</td>\n",
       "      <td>False</td>\n",
       "    </tr>\n",
       "    <tr>\n",
       "      <th>4</th>\n",
       "      <td>2003-01-01 02:30:00</td>\n",
       "      <td>2000.68435</td>\n",
       "      <td>NaN</td>\n",
       "      <td>NaN</td>\n",
       "      <td>NaN</td>\n",
       "      <td>NaN</td>\n",
       "      <td>1990.51493</td>\n",
       "      <td>2035.67195</td>\n",
       "      <td>2015.89887</td>\n",
       "      <td>True</td>\n",
       "      <td>False</td>\n",
       "      <td>False</td>\n",
       "    </tr>\n",
       "  </tbody>\n",
       "</table>\n",
       "</div>"
      ],
      "text/plain": [
       "             datetime      demand  coes_demand  import_exports  sein_demand  \\\n",
       "0 2003-01-01 00:30:00  2358.98170          NaN             NaN          NaN   \n",
       "1 2003-01-01 01:00:00  2287.14719          NaN             NaN          NaN   \n",
       "2 2003-01-01 01:30:00  2209.47934          NaN             NaN          NaN   \n",
       "3 2003-01-01 02:00:00  2125.32866          NaN             NaN          NaN   \n",
       "4 2003-01-01 02:30:00  2000.68435          NaN             NaN          NaN   \n",
       "\n",
       "   non_coes_demand  total_demand  total_demand_daily_plan  \\\n",
       "0              NaN    2306.76635               2304.71554   \n",
       "1              NaN    2237.36810               2208.29031   \n",
       "2              NaN    2150.86425               2125.24247   \n",
       "3              NaN    2063.83669               2090.81638   \n",
       "4              NaN    1990.51493               2035.67195   \n",
       "\n",
       "   total_demand_weekly_plan  holiday  workday  on_peak  \n",
       "0                2292.96587     True    False    False  \n",
       "1                2225.53541     True    False    False  \n",
       "2                2147.93319     True    False    False  \n",
       "3                2092.68125     True    False    False  \n",
       "4                2015.89887     True    False    False  "
      ]
     },
     "execution_count": 26,
     "metadata": {},
     "output_type": "execute_result"
    }
   ],
   "source": [
    "df.head()"
   ]
  },
  {
   "cell_type": "markdown",
   "id": "a18807f3-390b-4b92-baee-0126b974e042",
   "metadata": {},
   "source": [
    "## Explore demand data"
   ]
  },
  {
   "cell_type": "code",
   "execution_count": 27,
   "id": "ab0ee6ca-8530-4640-84a0-bf546c031b31",
   "metadata": {
    "tags": []
   },
   "outputs": [
    {
     "data": {
      "image/png": "[encoded data removed]",
      "text/plain": [
       "<Figure size 800x500 with 1 Axes>"
      ]
     },
     "metadata": {},
     "output_type": "display_data"
    }
   ],
   "source": [
    "df.plot(x='datetime',\n",
    "        y=['total_demand', 'sein_demand', 'demand'], figsize=(8, 5))\n",
    "plt.show()"
   ]
  },
  {
   "cell_type": "code",
   "execution_count": 28,
   "id": "9c33874a-3616-4934-a912-91bf7c52e79f",
   "metadata": {
    "tags": []
   },
   "outputs": [
    {
     "data": {
      "image/png": "[encoded data removed]",
      "text/plain": [
       "<Figure size 640x480 with 1 Axes>"
      ]
     },
     "metadata": {},
     "output_type": "display_data"
    }
   ],
   "source": [
    "df[df['on_peak']].plot(\n",
    "    x='datetime', y=['total_demand',  'sein_demand', 'demand']\n",
    ")\n",
    "plt.show()"
   ]
  },
  {
   "cell_type": "markdown",
   "id": "462378d0-8308-4273-9036-ff77d9cb11d9",
   "metadata": {
    "tags": []
   },
   "source": [
    "## Evaluate RMSE between SEIN demand from meters and SCADA systems"
   ]
  },
  {
   "cell_type": "code",
   "execution_count": 29,
   "id": "a3b22d0f-be4c-4353-9939-42ebe44d6a47",
   "metadata": {
    "tags": []
   },
   "outputs": [
    {
     "name": "stdout",
     "output_type": "stream",
     "text": [
      "RMSE: 70.1592695127992\n"
     ]
    }
   ],
   "source": [
    "# rmse\n",
    "mask = ~np.isnan(df['sein_demand'])\n",
    "peak_demand = df['demand'][mask]\n",
    "sein_demand = df['sein_demand'][mask]\n",
    "rmse = mean_squared_error(peak_demand, sein_demand, squared=False)\n",
    "print(\"RMSE:\", rmse)"
   ]
  },
  {
   "cell_type": "code",
   "execution_count": 30,
   "id": "0a6820e0-f3f4-4d1b-83c9-8b303a06a606",
   "metadata": {
    "tags": []
   },
   "outputs": [
    {
     "name": "stdout",
     "output_type": "stream",
     "text": [
      "Correct days: 60\n",
      "Accuracy: 0.6976744186046512\n"
     ]
    }
   ],
   "source": [
    "# accuracy of peak demand days and sein demand days\n",
    "df_peak = df[(df['on_peak']) & (df['sein_demand'] > 0)]\n",
    "idx_demand = df_peak.groupby(\n",
    "    [df['datetime'].dt.year, df['datetime'].dt.month])['demand'].idxmax()\n",
    "idx_sein = df_peak.groupby(\n",
    "    [df['datetime'].dt.year, df['datetime'].dt.month])['sein_demand'].idxmax()\n",
    "\n",
    "peak_demand_days = df_peak.loc[idx_demand]['datetime'].dt.day\n",
    "sein_demand_days = df_peak.loc[idx_sein]['datetime'].dt.day\n",
    "\n",
    "print(\"Correct days:\",\n",
    "      accuracy_score(peak_demand_days, sein_demand_days, normalize=False))\n",
    "print(\"Accuracy:\",\n",
    "      accuracy_score(peak_demand_days, sein_demand_days, normalize=True))"
   ]
  },
  {
   "cell_type": "code",
   "execution_count": 34,
   "id": "8356bb08-2687-46fd-a705-fc0bafd73363",
   "metadata": {
    "tags": []
   },
   "outputs": [
    {
     "data": {
      "image/png": "[encoded data removed]",
      "text/plain": [
       "<Figure size 640x480 with 1 Axes>"
      ]
     },
     "metadata": {},
     "output_type": "display_data"
    }
   ],
   "source": [
    "plt.bar(range(len(peak_demand_days)),\n",
    "        peak_demand_days, label='Peak demand (meters)')\n",
    "plt.bar(range(len(sein_demand_days)),\n",
    "        sein_demand_days, alpha=0.7, label='SEIN demand (SCADA)')\n",
    "plt.xlabel('months')\n",
    "plt.ylabel('Day of month')\n",
    "plt.title('Peak days: Peak demand vs SEIN demand')\n",
    "plt.legend()\n",
    "plt.show()"
   ]
  },
  {
   "cell_type": "markdown",
   "id": "a39762a9-cb5d-4110-bc47-c265c570cf3a",
   "metadata": {
    "tags": []
   },
   "source": [
    "## Save merged dataset as csv"
   ]
  },
  {
   "cell_type": "code",
   "execution_count": 35,
   "id": "e3d9ae1e-442f-4a2c-a2b8-29d12c83cc37",
   "metadata": {
    "tags": []
   },
   "outputs": [],
   "source": [
    "df.to_csv('./df_demand.csv', index=False)"
   ]
  },
  {
   "cell_type": "markdown",
   "id": "b0f8d35d-7109-4863-805f-a4e326d8d333",
   "metadata": {},
   "source": [
    "## Load data into S3"
   ]
  },
  {
   "cell_type": "code",
   "execution_count": null,
   "id": "a6e158d7-8bbe-4de4-8239-a41a4d78ca0f",
   "metadata": {
    "tags": []
   },
   "outputs": [],
   "source": [
    "os.environ['PROJECT_BUCKET'] = \"\""
   ]
  },
  {
   "cell_type": "code",
   "execution_count": 41,
   "id": "a668e111-8f5c-49d0-bceb-c73925af7043",
   "metadata": {
    "tags": []
   },
   "outputs": [
    {
     "name": "stdout",
     "output_type": "stream",
     "text": [
      "AWS Region: us-east-1\n"
     ]
    }
   ],
   "source": [
    "session = sagemaker.Session()\n",
    "bucket = os.getenv(\"PROJECT_BUCKET\")\n",
    "region = session.boto_region_name\n",
    "role = get_execution_role()\n",
    "\n",
    "print(\"AWS Region: {}\".format(region))"
   ]
  },
  {
   "cell_type": "code",
   "execution_count": null,
   "id": "2e3579da-dc69-4f0b-b124-dd5d6a374774",
   "metadata": {
    "tags": []
   },
   "outputs": [],
   "source": [
    "!aws s3 cp ./df_demand.csv s3://{bucket}/data/"
   ]
  }
 ],
 "metadata": {
  "availableInstances": [
   {
    "_defaultOrder": 0,
    "_isFastLaunch": true,
    "category": "General purpose",
    "gpuNum": 0,
    "hideHardwareSpecs": false,
    "memoryGiB": 4,
    "name": "ml.t3.medium",
    "vcpuNum": 2
   },
   {
    "_defaultOrder": 1,
    "_isFastLaunch": false,
    "category": "General purpose",
    "gpuNum": 0,
    "hideHardwareSpecs": false,
    "memoryGiB": 8,
    "name": "ml.t3.large",
    "vcpuNum": 2
   },
   {
    "_defaultOrder": 2,
    "_isFastLaunch": false,
    "category": "General purpose",
    "gpuNum": 0,
    "hideHardwareSpecs": false,
    "memoryGiB": 16,
    "name": "ml.t3.xlarge",
    "vcpuNum": 4
   },
   {
    "_defaultOrder": 3,
    "_isFastLaunch": false,
    "category": "General purpose",
    "gpuNum": 0,
    "hideHardwareSpecs": false,
    "memoryGiB": 32,
    "name": "ml.t3.2xlarge",
    "vcpuNum": 8
   },
   {
    "_defaultOrder": 4,
    "_isFastLaunch": true,
    "category": "General purpose",
    "gpuNum": 0,
    "hideHardwareSpecs": false,
    "memoryGiB": 8,
    "name": "ml.m5.large",
    "vcpuNum": 2
   },
   {
    "_defaultOrder": 5,
    "_isFastLaunch": false,
    "category": "General purpose",
    "gpuNum": 0,
    "hideHardwareSpecs": false,
    "memoryGiB": 16,
    "name": "ml.m5.xlarge",
    "vcpuNum": 4
   },
   {
    "_defaultOrder": 6,
    "_isFastLaunch": false,
    "category": "General purpose",
    "gpuNum": 0,
    "hideHardwareSpecs": false,
    "memoryGiB": 32,
    "name": "ml.m5.2xlarge",
    "vcpuNum": 8
   },
   {
    "_defaultOrder": 7,
    "_isFastLaunch": false,
    "category": "General purpose",
    "gpuNum": 0,
    "hideHardwareSpecs": false,
    "memoryGiB": 64,
    "name": "ml.m5.4xlarge",
    "vcpuNum": 16
   },
   {
    "_defaultOrder": 8,
    "_isFastLaunch": false,
    "category": "General purpose",
    "gpuNum": 0,
    "hideHardwareSpecs": false,
    "memoryGiB": 128,
    "name": "ml.m5.8xlarge",
    "vcpuNum": 32
   },
   {
    "_defaultOrder": 9,
    "_isFastLaunch": false,
    "category": "General purpose",
    "gpuNum": 0,
    "hideHardwareSpecs": false,
    "memoryGiB": 192,
    "name": "ml.m5.12xlarge",
    "vcpuNum": 48
   },
   {
    "_defaultOrder": 10,
    "_isFastLaunch": false,
    "category": "General purpose",
    "gpuNum": 0,
    "hideHardwareSpecs": false,
    "memoryGiB": 256,
    "name": "ml.m5.16xlarge",
    "vcpuNum": 64
   },
   {
    "_defaultOrder": 11,
    "_isFastLaunch": false,
    "category": "General purpose",
    "gpuNum": 0,
    "hideHardwareSpecs": false,
    "memoryGiB": 384,
    "name": "ml.m5.24xlarge",
    "vcpuNum": 96
   },
   {
    "_defaultOrder": 12,
    "_isFastLaunch": false,
    "category": "General purpose",
    "gpuNum": 0,
    "hideHardwareSpecs": false,
    "memoryGiB": 8,
    "name": "ml.m5d.large",
    "vcpuNum": 2
   },
   {
    "_defaultOrder": 13,
    "_isFastLaunch": false,
    "category": "General purpose",
    "gpuNum": 0,
    "hideHardwareSpecs": false,
    "memoryGiB": 16,
    "name": "ml.m5d.xlarge",
    "vcpuNum": 4
   },
   {
    "_defaultOrder": 14,
    "_isFastLaunch": false,
    "category": "General purpose",
    "gpuNum": 0,
    "hideHardwareSpecs": false,
    "memoryGiB": 32,
    "name": "ml.m5d.2xlarge",
    "vcpuNum": 8
   },
   {
    "_defaultOrder": 15,
    "_isFastLaunch": false,
    "category": "General purpose",
    "gpuNum": 0,
    "hideHardwareSpecs": false,
    "memoryGiB": 64,
    "name": "ml.m5d.4xlarge",
    "vcpuNum": 16
   },
   {
    "_defaultOrder": 16,
    "_isFastLaunch": false,
    "category": "General purpose",
    "gpuNum": 0,
    "hideHardwareSpecs": false,
    "memoryGiB": 128,
    "name": "ml.m5d.8xlarge",
    "vcpuNum": 32
   },
   {
    "_defaultOrder": 17,
    "_isFastLaunch": false,
    "category": "General purpose",
    "gpuNum": 0,
    "hideHardwareSpecs": false,
    "memoryGiB": 192,
    "name": "ml.m5d.12xlarge",
    "vcpuNum": 48
   },
   {
    "_defaultOrder": 18,
    "_isFastLaunch": false,
    "category": "General purpose",
    "gpuNum": 0,
    "hideHardwareSpecs": false,
    "memoryGiB": 256,
    "name": "ml.m5d.16xlarge",
    "vcpuNum": 64
   },
   {
    "_defaultOrder": 19,
    "_isFastLaunch": false,
    "category": "General purpose",
    "gpuNum": 0,
    "hideHardwareSpecs": false,
    "memoryGiB": 384,
    "name": "ml.m5d.24xlarge",
    "vcpuNum": 96
   },
   {
    "_defaultOrder": 20,
    "_isFastLaunch": false,
    "category": "General purpose",
    "gpuNum": 0,
    "hideHardwareSpecs": true,
    "memoryGiB": 0,
    "name": "ml.geospatial.interactive",
    "supportedImageNames": [
     "sagemaker-geospatial-v1-0"
    ],
    "vcpuNum": 0
   },
   {
    "_defaultOrder": 21,
    "_isFastLaunch": true,
    "category": "Compute optimized",
    "gpuNum": 0,
    "hideHardwareSpecs": false,
    "memoryGiB": 4,
    "name": "ml.c5.large",
    "vcpuNum": 2
   },
   {
    "_defaultOrder": 22,
    "_isFastLaunch": false,
    "category": "Compute optimized",
    "gpuNum": 0,
    "hideHardwareSpecs": false,
    "memoryGiB": 8,
    "name": "ml.c5.xlarge",
    "vcpuNum": 4
   },
   {
    "_defaultOrder": 23,
    "_isFastLaunch": false,
    "category": "Compute optimized",
    "gpuNum": 0,
    "hideHardwareSpecs": false,
    "memoryGiB": 16,
    "name": "ml.c5.2xlarge",
    "vcpuNum": 8
   },
   {
    "_defaultOrder": 24,
    "_isFastLaunch": false,
    "category": "Compute optimized",
    "gpuNum": 0,
    "hideHardwareSpecs": false,
    "memoryGiB": 32,
    "name": "ml.c5.4xlarge",
    "vcpuNum": 16
   },
   {
    "_defaultOrder": 25,
    "_isFastLaunch": false,
    "category": "Compute optimized",
    "gpuNum": 0,
    "hideHardwareSpecs": false,
    "memoryGiB": 72,
    "name": "ml.c5.9xlarge",
    "vcpuNum": 36
   },
   {
    "_defaultOrder": 26,
    "_isFastLaunch": false,
    "category": "Compute optimized",
    "gpuNum": 0,
    "hideHardwareSpecs": false,
    "memoryGiB": 96,
    "name": "ml.c5.12xlarge",
    "vcpuNum": 48
   },
   {
    "_defaultOrder": 27,
    "_isFastLaunch": false,
    "category": "Compute optimized",
    "gpuNum": 0,
    "hideHardwareSpecs": false,
    "memoryGiB": 144,
    "name": "ml.c5.18xlarge",
    "vcpuNum": 72
   },
   {
    "_defaultOrder": 28,
    "_isFastLaunch": false,
    "category": "Compute optimized",
    "gpuNum": 0,
    "hideHardwareSpecs": false,
    "memoryGiB": 192,
    "name": "ml.c5.24xlarge",
    "vcpuNum": 96
   },
   {
    "_defaultOrder": 29,
    "_isFastLaunch": true,
    "category": "Accelerated computing",
    "gpuNum": 1,
    "hideHardwareSpecs": false,
    "memoryGiB": 16,
    "name": "ml.g4dn.xlarge",
    "vcpuNum": 4
   },
   {
    "_defaultOrder": 30,
    "_isFastLaunch": false,
    "category": "Accelerated computing",
    "gpuNum": 1,
    "hideHardwareSpecs": false,
    "memoryGiB": 32,
    "name": "ml.g4dn.2xlarge",
    "vcpuNum": 8
   },
   {
    "_defaultOrder": 31,
    "_isFastLaunch": false,
    "category": "Accelerated computing",
    "gpuNum": 1,
    "hideHardwareSpecs": false,
    "memoryGiB": 64,
    "name": "ml.g4dn.4xlarge",
    "vcpuNum": 16
   },
   {
    "_defaultOrder": 32,
    "_isFastLaunch": false,
    "category": "Accelerated computing",
    "gpuNum": 1,
    "hideHardwareSpecs": false,
    "memoryGiB": 128,
    "name": "ml.g4dn.8xlarge",
    "vcpuNum": 32
   },
   {
    "_defaultOrder": 33,
    "_isFastLaunch": false,
    "category": "Accelerated computing",
    "gpuNum": 4,
    "hideHardwareSpecs": false,
    "memoryGiB": 192,
    "name": "ml.g4dn.12xlarge",
    "vcpuNum": 48
   },
   {
    "_defaultOrder": 34,
    "_isFastLaunch": false,
    "category": "Accelerated computing",
    "gpuNum": 1,
    "hideHardwareSpecs": false,
    "memoryGiB": 256,
    "name": "ml.g4dn.16xlarge",
    "vcpuNum": 64
   },
   {
    "_defaultOrder": 35,
    "_isFastLaunch": false,
    "category": "Accelerated computing",
    "gpuNum": 1,
    "hideHardwareSpecs": false,
    "memoryGiB": 61,
    "name": "ml.p3.2xlarge",
    "vcpuNum": 8
   },
   {
    "_defaultOrder": 36,
    "_isFastLaunch": false,
    "category": "Accelerated computing",
    "gpuNum": 4,
    "hideHardwareSpecs": false,
    "memoryGiB": 244,
    "name": "ml.p3.8xlarge",
    "vcpuNum": 32
   },
   {
    "_defaultOrder": 37,
    "_isFastLaunch": false,
    "category": "Accelerated computing",
    "gpuNum": 8,
    "hideHardwareSpecs": false,
    "memoryGiB": 488,
    "name": "ml.p3.16xlarge",
    "vcpuNum": 64
   },
   {
    "_defaultOrder": 38,
    "_isFastLaunch": false,
    "category": "Accelerated computing",
    "gpuNum": 8,
    "hideHardwareSpecs": false,
    "memoryGiB": 768,
    "name": "ml.p3dn.24xlarge",
    "vcpuNum": 96
   },
   {
    "_defaultOrder": 39,
    "_isFastLaunch": false,
    "category": "Memory Optimized",
    "gpuNum": 0,
    "hideHardwareSpecs": false,
    "memoryGiB": 16,
    "name": "ml.r5.large",
    "vcpuNum": 2
   },
   {
    "_defaultOrder": 40,
    "_isFastLaunch": false,
    "category": "Memory Optimized",
    "gpuNum": 0,
    "hideHardwareSpecs": false,
    "memoryGiB": 32,
    "name": "ml.r5.xlarge",
    "vcpuNum": 4
   },
   {
    "_defaultOrder": 41,
    "_isFastLaunch": false,
    "category": "Memory Optimized",
    "gpuNum": 0,
    "hideHardwareSpecs": false,
    "memoryGiB": 64,
    "name": "ml.r5.2xlarge",
    "vcpuNum": 8
   },
   {
    "_defaultOrder": 42,
    "_isFastLaunch": false,
    "category": "Memory Optimized",
    "gpuNum": 0,
    "hideHardwareSpecs": false,
    "memoryGiB": 128,
    "name": "ml.r5.4xlarge",
    "vcpuNum": 16
   },
   {
    "_defaultOrder": 43,
    "_isFastLaunch": false,
    "category": "Memory Optimized",
    "gpuNum": 0,
    "hideHardwareSpecs": false,
    "memoryGiB": 256,
    "name": "ml.r5.8xlarge",
    "vcpuNum": 32
   },
   {
    "_defaultOrder": 44,
    "_isFastLaunch": false,
    "category": "Memory Optimized",
    "gpuNum": 0,
    "hideHardwareSpecs": false,
    "memoryGiB": 384,
    "name": "ml.r5.12xlarge",
    "vcpuNum": 48
   },
   {
    "_defaultOrder": 45,
    "_isFastLaunch": false,
    "category": "Memory Optimized",
    "gpuNum": 0,
    "hideHardwareSpecs": false,
    "memoryGiB": 512,
    "name": "ml.r5.16xlarge",
    "vcpuNum": 64
   },
   {
    "_defaultOrder": 46,
    "_isFastLaunch": false,
    "category": "Memory Optimized",
    "gpuNum": 0,
    "hideHardwareSpecs": false,
    "memoryGiB": 768,
    "name": "ml.r5.24xlarge",
    "vcpuNum": 96
   },
   {
    "_defaultOrder": 47,
    "_isFastLaunch": false,
    "category": "Accelerated computing",
    "gpuNum": 1,
    "hideHardwareSpecs": false,
    "memoryGiB": 16,
    "name": "ml.g5.xlarge",
    "vcpuNum": 4
   },
   {
    "_defaultOrder": 48,
    "_isFastLaunch": false,
    "category": "Accelerated computing",
    "gpuNum": 1,
    "hideHardwareSpecs": false,
    "memoryGiB": 32,
    "name": "ml.g5.2xlarge",
    "vcpuNum": 8
   },
   {
    "_defaultOrder": 49,
    "_isFastLaunch": false,
    "category": "Accelerated computing",
    "gpuNum": 1,
    "hideHardwareSpecs": false,
    "memoryGiB": 64,
    "name": "ml.g5.4xlarge",
    "vcpuNum": 16
   },
   {
    "_defaultOrder": 50,
    "_isFastLaunch": false,
    "category": "Accelerated computing",
    "gpuNum": 1,
    "hideHardwareSpecs": false,
    "memoryGiB": 128,
    "name": "ml.g5.8xlarge",
    "vcpuNum": 32
   },
   {
    "_defaultOrder": 51,
    "_isFastLaunch": false,
    "category": "Accelerated computing",
    "gpuNum": 1,
    "hideHardwareSpecs": false,
    "memoryGiB": 256,
    "name": "ml.g5.16xlarge",
    "vcpuNum": 64
   },
   {
    "_defaultOrder": 52,
    "_isFastLaunch": false,
    "category": "Accelerated computing",
    "gpuNum": 4,
    "hideHardwareSpecs": false,
    "memoryGiB": 192,
    "name": "ml.g5.12xlarge",
    "vcpuNum": 48
   },
   {
    "_defaultOrder": 53,
    "_isFastLaunch": false,
    "category": "Accelerated computing",
    "gpuNum": 4,
    "hideHardwareSpecs": false,
    "memoryGiB": 384,
    "name": "ml.g5.24xlarge",
    "vcpuNum": 96
   },
   {
    "_defaultOrder": 54,
    "_isFastLaunch": false,
    "category": "Accelerated computing",
    "gpuNum": 8,
    "hideHardwareSpecs": false,
    "memoryGiB": 768,
    "name": "ml.g5.48xlarge",
    "vcpuNum": 192
   }
  ],
  "kernelspec": {
   "display_name": "Python 3 (Data Science)",
   "language": "python",
   "name": "python3__SAGEMAKER_INTERNAL__arn:aws:sagemaker:us-east-1:081325390199:image/datascience-1.0"
  },
  "language_info": {
   "codemirror_mode": {
    "name": "ipython",
    "version": 3
   },
   "file_extension": ".py",
   "mimetype": "text/x-python",
   "name": "python",
   "nbconvert_exporter": "python",
   "pygments_lexer": "ipython3",
   "version": "3.7.10"
  }
 },
 "nbformat": 4,
 "nbformat_minor": 5
}
