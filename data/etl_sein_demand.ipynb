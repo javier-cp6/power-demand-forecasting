{
 "cells": [
  {
   "cell_type": "markdown",
   "id": "b7eea07d-6577-43bb-97b7-3970c0c4626a",
   "metadata": {},
   "source": [
    "# SEIN power demand data"
   ]
  },
  {
   "cell_type": "markdown",
   "id": "3eba9866-8951-4734-aac9-72a1f1bf2ffb",
   "metadata": {},
   "source": [
    "Power demand of the Peruvian national electric system (SEIN) registered in 30-minute periods and reported daily the next day of operations by the COES (Peru's system operator). This data is retrieved  from SCADA systems and published in Excel format.\n",
    "\n",
    "Source: https://www.coes.org.pe/Portal/PostOperacion/Reportes/Ieod\n",
    "\n",
    "Description of raw data extracted from daily reports:\n",
    "\n",
    "- \"datetime\": Date and time in \"yyyy-mm-dd hh:mm:ss\" format.  \n",
    "- \"TOTAL GENERACIÓN COES\": Total power dispatch  of COES's generators in MW.  \n",
    "- \"IMPORTACIÓN ECUADOR\": Imports and exports from and to Ecuador in MW.  \n",
    "- \"TOTAL SEIN\": Power demand of the national electric system (SEIN) in MW.   \n",
    "- \"TOTAL NO COES\": Total power dispatch of non-COES's generators in MW.  "
   ]
  },
  {
   "cell_type": "markdown",
   "id": "2c675234-c71d-4357-9f63-2d4d9929c930",
   "metadata": {
    "tags": []
   },
   "source": [
    "## Download data"
   ]
  },
  {
   "cell_type": "markdown",
   "id": "749cb6cc-acc6-4a1c-9f6b-bc4211fa8fae",
   "metadata": {},
   "source": [
    "Refactored code to download data of SEIN power demand in a single run."
   ]
  },
  {
   "cell_type": "code",
   "execution_count": 14,
   "id": "41a11762-fbc7-4e9c-88e8-403f92d4b6d4",
   "metadata": {},
   "outputs": [],
   "source": [
    "import pandas as pd\n",
    "import requests\n",
    "from datetime import datetime\n",
    "import os\n",
    "import time\n",
    "from openpyxl import load_workbook\n",
    "import xlrd\n",
    "import sagemaker\n",
    "from sagemaker import get_execution_role"
   ]
  },
  {
   "cell_type": "code",
   "execution_count": 5,
   "id": "efc98edb-ac5a-422d-ba01-07bba89fcb7f",
   "metadata": {
    "tags": []
   },
   "outputs": [
    {
     "name": "stdout",
     "output_type": "stream",
     "text": [
      "Error reading file: [Errno 2] No such file or directory: './sein_demand/2019_07_31.xls' 2019-07-31\n"
     ]
    },
    {
     "name": "stderr",
     "output_type": "stream",
     "text": [
      "/opt/conda/lib/python3.7/site-packages/openpyxl/reader/drawings.py:59: UserWarning: wmf image format is not supported so the image is being dropped\n",
      "  warn(msg)\n"
     ]
    },
    {
     "name": "stdout",
     "output_type": "stream",
     "text": [
      "Error reading file: [Errno 2] No such file or directory: './sein_demand/2020_11_04.xls' 2020-11-04\n",
      "Error reading file: [Errno 2] No such file or directory: './sein_demand/2020_12_25.xls' 2020-12-25\n",
      "Downloaded files: 2644 files\n",
      "Time taken: 16804.24077439308 seconds\n"
     ]
    }
   ],
   "source": [
    "start_time = time.time()\n",
    "\n",
    "session = requests.Session()\n",
    "\n",
    "endpoint = 'www.coes.org.pe/Portal/browser/download?url=Post%20Operaci%C3%B3n/Reportes/IEOD'\n",
    "url_list = [\n",
    "    'https://{}/{}/{:02d}_{}/{:02d}/Anexo1_Resumen_{:02d}{:02d}',  # 2021\n",
    "    'https://{}/{}/{:02d}%20{}/{:02d}/Anexo1_Resumen_{:02d}{:02d}',  # Jul 2019 - 2020\n",
    "    'https://{}/{}/{:02d}%20{}/D%C3%ADa%20{:02d}/Anexo1_Resumen_{:02d}{:02d}',  # Jan-Jun 2019\n",
    "    'https://{}/{}/{:02d}_{}/D%C3%ADa%20{:02d}/Anexo1_Resumen_{:02d}{:02d}',  # Dec 5 2017 - 2018\n",
    "    'https://{}/{}/{:02d}_{}/D%C3%ADa%20{:02d}/Anexo_{:02d}{:02d}',  # <= 2017\n",
    "    'https://{}/{}/{:02d}_{}/Dia%20{:02d}/Anexo_{:02d}{:02d}',\n",
    "    'https://{}/{}/{:02d}_{}/D%C3%ACa%20{:02d}/Anexo1_Resumen_{:02d}{:02d}',\n",
    "    'https://{}/{}/{:02d}%20{}/D%C3%ACa%20{:02d}/Anexo1_Resumen_{:02d}{:02d}',\n",
    "    'https://{}/{}/{:02d}_{}/D%C3%ADa%20{:02d}/Anexo_{:02d}{:02d}_Resumen',\n",
    "    'https://{}/{}/{:02d}%20{}/Dia%20{:02d}/Anexo1_Resumen_{:02d}{:02d}',\n",
    "]\n",
    "\n",
    "start_date = datetime(2016, 1, 1)\n",
    "end_date = datetime(2023, 3, 31)\n",
    "\n",
    "extensions = ['.xlsx', '.xls']\n",
    "\n",
    "header_names = [\"HORA\", \"TOTAL GENERACIÓN COES\", \"IMPORTACIÓN  ECUADOR\",\n",
    "                \"TOTAL SEIN\", \"TOTAL\\nNO COES\"]\n",
    "sheet_name = 'DESPACHO_EJECUTADO'\n",
    "\n",
    "start_row = 6\n",
    "end_row = 53\n",
    "\n",
    "month_dict = {\n",
    "    'January': 'Enero',\n",
    "    'February': 'Febrero',\n",
    "    'March': 'Marzo',\n",
    "    'April': 'Abril',\n",
    "    'May': 'Mayo',\n",
    "    'June': 'Junio',\n",
    "    'July': 'Julio',\n",
    "    'August': 'Agosto',\n",
    "    'September': 'Setiembre',\n",
    "    'October': 'Octubre',\n",
    "    'November': 'Noviembre',\n",
    "    'December': 'Diciembre'\n",
    "}\n",
    "\n",
    "df_list = []\n",
    "\n",
    "if not os.path.exists(\"./sein_demand\"):\n",
    "    os.makedirs(\"./sein_demand\")\n",
    "\n",
    "count_files = 0\n",
    "\n",
    "for date in pd.date_range(start_date, end_date):\n",
    "    year, month, day = date.year, date.month, date.day\n",
    "    month_name = month_dict[date.strftime('%B')]\n",
    "\n",
    "    file_path = \"\"\n",
    "\n",
    "    for ext in extensions:\n",
    "        file_path = f'./sein_demand/{year}_{month:02d}_{day:02d}{ext}'\n",
    "\n",
    "        for url in url_list:\n",
    "            file_url = url.format(endpoint, year, month, month_name,\n",
    "                                  day, day, month) + ext\n",
    "\n",
    "            try:\n",
    "                response = session.get(file_url, stream=True)\n",
    "                response.raise_for_status()\n",
    "\n",
    "                with open(file_path, 'wb') as f:\n",
    "                    f.write(response.content)\n",
    "\n",
    "                if ext == \".xlsx\":\n",
    "                    load_workbook(file_path)\n",
    "                else:\n",
    "                    xlrd.open_workbook(file_path)\n",
    "\n",
    "                count_files += 1\n",
    "                break\n",
    "\n",
    "            except requests.exceptions.RequestException as e:\n",
    "                print(\"Error during request:\", e, date.date())\n",
    "\n",
    "            except Exception as e:\n",
    "                # print(\"Error:\", e, file_path)\n",
    "                os.remove(file_path)\n",
    "        else:\n",
    "            continue\n",
    "        break\n",
    "\n",
    "    df = pd.DataFrame(columns=[\"datetime\"])\n",
    "\n",
    "    try:\n",
    "        header_row = pd.read_excel(file_path, sheet_name=sheet_name,\n",
    "                                   header=None, nrows=1, skiprows=start_row-2)\n",
    "        header_values = header_row.loc[0, :].tolist()\n",
    "        main_index = header_values.index(header_names[1])\n",
    "        last_index = header_values.index(header_names[4])\n",
    "        indices = [0, main_index, main_index+1, main_index+2, last_index]\n",
    "\n",
    "        df = pd.read_excel(file_path, sheet_name=sheet_name,\n",
    "                           header=start_row-2, usecols=indices,\n",
    "                           nrows=end_row-start_row+1, skiprows=[start_row-1])\n",
    "        df.columns = header_names\n",
    "\n",
    "    except Exception as e:\n",
    "        print(\"Error reading file:\", e, date.date())\n",
    "\n",
    "    if not df.empty:\n",
    "        df.insert(0, 'datetime', pd.to_datetime(\n",
    "            f'{year}-{month:02d}-{day:02d} ' + df['HORA'].astype(str)))\n",
    "\n",
    "        mask = df['HORA'] == '00:00'\n",
    "        df.loc[mask, 'datetime'] = df.loc[mask, 'datetime'] + pd.Timedelta(days=1)\n",
    "\n",
    "        df = df.drop(columns=['HORA'])\n",
    "        df.rename(columns={df.columns[2]: 'IMPORTACIÓN  ECUADOR'}, inplace=True)\n",
    "\n",
    "    df_list.append(df)\n",
    "\n",
    "merged_df = pd.concat(df_list, ignore_index=True)\n",
    "\n",
    "date_range = pd.date_range(start_date, end_date + pd.Timedelta(days=1), freq='30min')\n",
    "merged_df = merged_df.set_index('datetime').reindex(date_range).reset_index()\n",
    "merged_df.rename(columns={'index': 'datetime'}, inplace=True)\n",
    "merged_df = merged_df.drop(index=0)\n",
    "\n",
    "merged_df.to_csv('./sein_demand.csv', index=False)\n",
    "\n",
    "end_time = time.time()\n",
    "time_taken = end_time - start_time\n",
    "print(f'Downloaded files: {count_files} files')\n",
    "print(f'Time taken: {time_taken} seconds')"
   ]
  },
  {
   "cell_type": "code",
   "execution_count": 15,
   "id": "3897d61f-5613-45ac-a165-68691fc6766a",
   "metadata": {
    "tags": []
   },
   "outputs": [
    {
     "data": {
      "text/html": [
       "<div>\n",
       "<style scoped>\n",
       "    .dataframe tbody tr th:only-of-type {\n",
       "        vertical-align: middle;\n",
       "    }\n",
       "\n",
       "    .dataframe tbody tr th {\n",
       "        vertical-align: top;\n",
       "    }\n",
       "\n",
       "    .dataframe thead th {\n",
       "        text-align: right;\n",
       "    }\n",
       "</style>\n",
       "<table border=\"1\" class=\"dataframe\">\n",
       "  <thead>\n",
       "    <tr style=\"text-align: right;\">\n",
       "      <th></th>\n",
       "      <th>datetime</th>\n",
       "      <th>TOTAL GENERACIÓN COES</th>\n",
       "      <th>IMPORTACIÓN  ECUADOR</th>\n",
       "      <th>TOTAL SEIN</th>\n",
       "      <th>TOTAL\\nNO COES</th>\n",
       "    </tr>\n",
       "  </thead>\n",
       "  <tbody>\n",
       "    <tr>\n",
       "      <th>0</th>\n",
       "      <td>2016-01-01 00:30:00</td>\n",
       "      <td>5028.33192</td>\n",
       "      <td>41.77</td>\n",
       "      <td>4986.56192</td>\n",
       "      <td>22.62600</td>\n",
       "    </tr>\n",
       "    <tr>\n",
       "      <th>1</th>\n",
       "      <td>2016-01-01 01:00:00</td>\n",
       "      <td>4948.64387</td>\n",
       "      <td>41.23</td>\n",
       "      <td>4907.41387</td>\n",
       "      <td>23.63700</td>\n",
       "    </tr>\n",
       "    <tr>\n",
       "      <th>2</th>\n",
       "      <td>2016-01-01 01:30:00</td>\n",
       "      <td>4817.33694</td>\n",
       "      <td>38.79</td>\n",
       "      <td>4778.54694</td>\n",
       "      <td>23.00700</td>\n",
       "    </tr>\n",
       "    <tr>\n",
       "      <th>3</th>\n",
       "      <td>2016-01-01 02:00:00</td>\n",
       "      <td>4702.32782</td>\n",
       "      <td>40.13</td>\n",
       "      <td>4662.19782</td>\n",
       "      <td>22.82900</td>\n",
       "    </tr>\n",
       "    <tr>\n",
       "      <th>4</th>\n",
       "      <td>2016-01-01 02:30:00</td>\n",
       "      <td>4562.66431</td>\n",
       "      <td>39.50</td>\n",
       "      <td>4523.16431</td>\n",
       "      <td>22.84000</td>\n",
       "    </tr>\n",
       "    <tr>\n",
       "      <th>...</th>\n",
       "      <td>...</td>\n",
       "      <td>...</td>\n",
       "      <td>...</td>\n",
       "      <td>...</td>\n",
       "      <td>...</td>\n",
       "    </tr>\n",
       "    <tr>\n",
       "      <th>127051</th>\n",
       "      <td>2023-03-31 22:00:00</td>\n",
       "      <td>7225.40000</td>\n",
       "      <td>0.00</td>\n",
       "      <td>7225.40000</td>\n",
       "      <td>92.63953</td>\n",
       "    </tr>\n",
       "    <tr>\n",
       "      <th>127052</th>\n",
       "      <td>2023-03-31 22:30:00</td>\n",
       "      <td>7077.20000</td>\n",
       "      <td>0.00</td>\n",
       "      <td>7077.20000</td>\n",
       "      <td>84.29747</td>\n",
       "    </tr>\n",
       "    <tr>\n",
       "      <th>127053</th>\n",
       "      <td>2023-03-31 23:00:00</td>\n",
       "      <td>6943.00000</td>\n",
       "      <td>0.00</td>\n",
       "      <td>6943.00000</td>\n",
       "      <td>88.19350</td>\n",
       "    </tr>\n",
       "    <tr>\n",
       "      <th>127054</th>\n",
       "      <td>2023-03-31 23:30:00</td>\n",
       "      <td>6715.00000</td>\n",
       "      <td>0.00</td>\n",
       "      <td>6715.00000</td>\n",
       "      <td>93.18016</td>\n",
       "    </tr>\n",
       "    <tr>\n",
       "      <th>127055</th>\n",
       "      <td>2023-04-01 00:00:00</td>\n",
       "      <td>6616.30000</td>\n",
       "      <td>0.00</td>\n",
       "      <td>6616.30000</td>\n",
       "      <td>93.10115</td>\n",
       "    </tr>\n",
       "  </tbody>\n",
       "</table>\n",
       "<p>127056 rows × 5 columns</p>\n",
       "</div>"
      ],
      "text/plain": [
       "                   datetime  TOTAL GENERACIÓN COES  IMPORTACIÓN  ECUADOR  \\\n",
       "0       2016-01-01 00:30:00             5028.33192                 41.77   \n",
       "1       2016-01-01 01:00:00             4948.64387                 41.23   \n",
       "2       2016-01-01 01:30:00             4817.33694                 38.79   \n",
       "3       2016-01-01 02:00:00             4702.32782                 40.13   \n",
       "4       2016-01-01 02:30:00             4562.66431                 39.50   \n",
       "...                     ...                    ...                   ...   \n",
       "127051  2023-03-31 22:00:00             7225.40000                  0.00   \n",
       "127052  2023-03-31 22:30:00             7077.20000                  0.00   \n",
       "127053  2023-03-31 23:00:00             6943.00000                  0.00   \n",
       "127054  2023-03-31 23:30:00             6715.00000                  0.00   \n",
       "127055  2023-04-01 00:00:00             6616.30000                  0.00   \n",
       "\n",
       "        TOTAL SEIN  TOTAL\\nNO COES  \n",
       "0       4986.56192        22.62600  \n",
       "1       4907.41387        23.63700  \n",
       "2       4778.54694        23.00700  \n",
       "3       4662.19782        22.82900  \n",
       "4       4523.16431        22.84000  \n",
       "...            ...             ...  \n",
       "127051  7225.40000        92.63953  \n",
       "127052  7077.20000        84.29747  \n",
       "127053  6943.00000        88.19350  \n",
       "127054  6715.00000        93.18016  \n",
       "127055  6616.30000        93.10115  \n",
       "\n",
       "[127056 rows x 5 columns]"
      ]
     },
     "execution_count": 15,
     "metadata": {},
     "output_type": "execute_result"
    }
   ],
   "source": [
    "merged_df = pd.read_csv('./sein_demand.csv')\n",
    "merged_df"
   ]
  },
  {
   "cell_type": "markdown",
   "id": "2efa7bdf-18d7-418c-9016-a22efac09396",
   "metadata": {},
   "source": [
    "### Load data into S3"
   ]
  },
  {
   "cell_type": "code",
   "execution_count": null,
   "id": "7ceee95a-a2ae-4f6e-9d26-6e4f7481bf1d",
   "metadata": {
    "tags": []
   },
   "outputs": [],
   "source": [
    "os.environ['PROJECT_BUCKET'] = \"\""
   ]
  },
  {
   "cell_type": "code",
   "execution_count": 10,
   "id": "36d37b6c-ccef-4891-9463-e30c5d1d1d52",
   "metadata": {
    "tags": []
   },
   "outputs": [
    {
     "name": "stdout",
     "output_type": "stream",
     "text": [
      "AWS Region: us-east-1\n"
     ]
    }
   ],
   "source": [
    "session = sagemaker.Session()\n",
    "bucket = os.getenv(\"PROJECT_BUCKET\")\n",
    "region = session.boto_region_name\n",
    "role = get_execution_role()\n",
    "\n",
    "print(\"AWS Region: {}\".format(region))"
   ]
  },
  {
   "cell_type": "code",
   "execution_count": null,
   "id": "811ce7b6-72db-4d6f-aa20-2b06f172387e",
   "metadata": {
    "tags": []
   },
   "outputs": [],
   "source": [
    "!aws s3 sync ./sein_demand s3://{bucket}/data/sein_demand/"
   ]
  },
  {
   "cell_type": "code",
   "execution_count": null,
   "id": "cf4087e2-6c5c-4361-be39-b57481ad3b8c",
   "metadata": {
    "tags": []
   },
   "outputs": [],
   "source": [
    "!aws s3 cp ./sein_demand.csv s3://{bucket}/data/"
   ]
  }
 ],
 "metadata": {
  "availableInstances": [
   {
    "_defaultOrder": 0,
    "_isFastLaunch": true,
    "category": "General purpose",
    "gpuNum": 0,
    "hideHardwareSpecs": false,
    "memoryGiB": 4,
    "name": "ml.t3.medium",
    "vcpuNum": 2
   },
   {
    "_defaultOrder": 1,
    "_isFastLaunch": false,
    "category": "General purpose",
    "gpuNum": 0,
    "hideHardwareSpecs": false,
    "memoryGiB": 8,
    "name": "ml.t3.large",
    "vcpuNum": 2
   },
   {
    "_defaultOrder": 2,
    "_isFastLaunch": false,
    "category": "General purpose",
    "gpuNum": 0,
    "hideHardwareSpecs": false,
    "memoryGiB": 16,
    "name": "ml.t3.xlarge",
    "vcpuNum": 4
   },
   {
    "_defaultOrder": 3,
    "_isFastLaunch": false,
    "category": "General purpose",
    "gpuNum": 0,
    "hideHardwareSpecs": false,
    "memoryGiB": 32,
    "name": "ml.t3.2xlarge",
    "vcpuNum": 8
   },
   {
    "_defaultOrder": 4,
    "_isFastLaunch": true,
    "category": "General purpose",
    "gpuNum": 0,
    "hideHardwareSpecs": false,
    "memoryGiB": 8,
    "name": "ml.m5.large",
    "vcpuNum": 2
   },
   {
    "_defaultOrder": 5,
    "_isFastLaunch": false,
    "category": "General purpose",
    "gpuNum": 0,
    "hideHardwareSpecs": false,
    "memoryGiB": 16,
    "name": "ml.m5.xlarge",
    "vcpuNum": 4
   },
   {
    "_defaultOrder": 6,
    "_isFastLaunch": false,
    "category": "General purpose",
    "gpuNum": 0,
    "hideHardwareSpecs": false,
    "memoryGiB": 32,
    "name": "ml.m5.2xlarge",
    "vcpuNum": 8
   },
   {
    "_defaultOrder": 7,
    "_isFastLaunch": false,
    "category": "General purpose",
    "gpuNum": 0,
    "hideHardwareSpecs": false,
    "memoryGiB": 64,
    "name": "ml.m5.4xlarge",
    "vcpuNum": 16
   },
   {
    "_defaultOrder": 8,
    "_isFastLaunch": false,
    "category": "General purpose",
    "gpuNum": 0,
    "hideHardwareSpecs": false,
    "memoryGiB": 128,
    "name": "ml.m5.8xlarge",
    "vcpuNum": 32
   },
   {
    "_defaultOrder": 9,
    "_isFastLaunch": false,
    "category": "General purpose",
    "gpuNum": 0,
    "hideHardwareSpecs": false,
    "memoryGiB": 192,
    "name": "ml.m5.12xlarge",
    "vcpuNum": 48
   },
   {
    "_defaultOrder": 10,
    "_isFastLaunch": false,
    "category": "General purpose",
    "gpuNum": 0,
    "hideHardwareSpecs": false,
    "memoryGiB": 256,
    "name": "ml.m5.16xlarge",
    "vcpuNum": 64
   },
   {
    "_defaultOrder": 11,
    "_isFastLaunch": false,
    "category": "General purpose",
    "gpuNum": 0,
    "hideHardwareSpecs": false,
    "memoryGiB": 384,
    "name": "ml.m5.24xlarge",
    "vcpuNum": 96
   },
   {
    "_defaultOrder": 12,
    "_isFastLaunch": false,
    "category": "General purpose",
    "gpuNum": 0,
    "hideHardwareSpecs": false,
    "memoryGiB": 8,
    "name": "ml.m5d.large",
    "vcpuNum": 2
   },
   {
    "_defaultOrder": 13,
    "_isFastLaunch": false,
    "category": "General purpose",
    "gpuNum": 0,
    "hideHardwareSpecs": false,
    "memoryGiB": 16,
    "name": "ml.m5d.xlarge",
    "vcpuNum": 4
   },
   {
    "_defaultOrder": 14,
    "_isFastLaunch": false,
    "category": "General purpose",
    "gpuNum": 0,
    "hideHardwareSpecs": false,
    "memoryGiB": 32,
    "name": "ml.m5d.2xlarge",
    "vcpuNum": 8
   },
   {
    "_defaultOrder": 15,
    "_isFastLaunch": false,
    "category": "General purpose",
    "gpuNum": 0,
    "hideHardwareSpecs": false,
    "memoryGiB": 64,
    "name": "ml.m5d.4xlarge",
    "vcpuNum": 16
   },
   {
    "_defaultOrder": 16,
    "_isFastLaunch": false,
    "category": "General purpose",
    "gpuNum": 0,
    "hideHardwareSpecs": false,
    "memoryGiB": 128,
    "name": "ml.m5d.8xlarge",
    "vcpuNum": 32
   },
   {
    "_defaultOrder": 17,
    "_isFastLaunch": false,
    "category": "General purpose",
    "gpuNum": 0,
    "hideHardwareSpecs": false,
    "memoryGiB": 192,
    "name": "ml.m5d.12xlarge",
    "vcpuNum": 48
   },
   {
    "_defaultOrder": 18,
    "_isFastLaunch": false,
    "category": "General purpose",
    "gpuNum": 0,
    "hideHardwareSpecs": false,
    "memoryGiB": 256,
    "name": "ml.m5d.16xlarge",
    "vcpuNum": 64
   },
   {
    "_defaultOrder": 19,
    "_isFastLaunch": false,
    "category": "General purpose",
    "gpuNum": 0,
    "hideHardwareSpecs": false,
    "memoryGiB": 384,
    "name": "ml.m5d.24xlarge",
    "vcpuNum": 96
   },
   {
    "_defaultOrder": 20,
    "_isFastLaunch": false,
    "category": "General purpose",
    "gpuNum": 0,
    "hideHardwareSpecs": true,
    "memoryGiB": 0,
    "name": "ml.geospatial.interactive",
    "supportedImageNames": [
     "sagemaker-geospatial-v1-0"
    ],
    "vcpuNum": 0
   },
   {
    "_defaultOrder": 21,
    "_isFastLaunch": true,
    "category": "Compute optimized",
    "gpuNum": 0,
    "hideHardwareSpecs": false,
    "memoryGiB": 4,
    "name": "ml.c5.large",
    "vcpuNum": 2
   },
   {
    "_defaultOrder": 22,
    "_isFastLaunch": false,
    "category": "Compute optimized",
    "gpuNum": 0,
    "hideHardwareSpecs": false,
    "memoryGiB": 8,
    "name": "ml.c5.xlarge",
    "vcpuNum": 4
   },
   {
    "_defaultOrder": 23,
    "_isFastLaunch": false,
    "category": "Compute optimized",
    "gpuNum": 0,
    "hideHardwareSpecs": false,
    "memoryGiB": 16,
    "name": "ml.c5.2xlarge",
    "vcpuNum": 8
   },
   {
    "_defaultOrder": 24,
    "_isFastLaunch": false,
    "category": "Compute optimized",
    "gpuNum": 0,
    "hideHardwareSpecs": false,
    "memoryGiB": 32,
    "name": "ml.c5.4xlarge",
    "vcpuNum": 16
   },
   {
    "_defaultOrder": 25,
    "_isFastLaunch": false,
    "category": "Compute optimized",
    "gpuNum": 0,
    "hideHardwareSpecs": false,
    "memoryGiB": 72,
    "name": "ml.c5.9xlarge",
    "vcpuNum": 36
   },
   {
    "_defaultOrder": 26,
    "_isFastLaunch": false,
    "category": "Compute optimized",
    "gpuNum": 0,
    "hideHardwareSpecs": false,
    "memoryGiB": 96,
    "name": "ml.c5.12xlarge",
    "vcpuNum": 48
   },
   {
    "_defaultOrder": 27,
    "_isFastLaunch": false,
    "category": "Compute optimized",
    "gpuNum": 0,
    "hideHardwareSpecs": false,
    "memoryGiB": 144,
    "name": "ml.c5.18xlarge",
    "vcpuNum": 72
   },
   {
    "_defaultOrder": 28,
    "_isFastLaunch": false,
    "category": "Compute optimized",
    "gpuNum": 0,
    "hideHardwareSpecs": false,
    "memoryGiB": 192,
    "name": "ml.c5.24xlarge",
    "vcpuNum": 96
   },
   {
    "_defaultOrder": 29,
    "_isFastLaunch": true,
    "category": "Accelerated computing",
    "gpuNum": 1,
    "hideHardwareSpecs": false,
    "memoryGiB": 16,
    "name": "ml.g4dn.xlarge",
    "vcpuNum": 4
   },
   {
    "_defaultOrder": 30,
    "_isFastLaunch": false,
    "category": "Accelerated computing",
    "gpuNum": 1,
    "hideHardwareSpecs": false,
    "memoryGiB": 32,
    "name": "ml.g4dn.2xlarge",
    "vcpuNum": 8
   },
   {
    "_defaultOrder": 31,
    "_isFastLaunch": false,
    "category": "Accelerated computing",
    "gpuNum": 1,
    "hideHardwareSpecs": false,
    "memoryGiB": 64,
    "name": "ml.g4dn.4xlarge",
    "vcpuNum": 16
   },
   {
    "_defaultOrder": 32,
    "_isFastLaunch": false,
    "category": "Accelerated computing",
    "gpuNum": 1,
    "hideHardwareSpecs": false,
    "memoryGiB": 128,
    "name": "ml.g4dn.8xlarge",
    "vcpuNum": 32
   },
   {
    "_defaultOrder": 33,
    "_isFastLaunch": false,
    "category": "Accelerated computing",
    "gpuNum": 4,
    "hideHardwareSpecs": false,
    "memoryGiB": 192,
    "name": "ml.g4dn.12xlarge",
    "vcpuNum": 48
   },
   {
    "_defaultOrder": 34,
    "_isFastLaunch": false,
    "category": "Accelerated computing",
    "gpuNum": 1,
    "hideHardwareSpecs": false,
    "memoryGiB": 256,
    "name": "ml.g4dn.16xlarge",
    "vcpuNum": 64
   },
   {
    "_defaultOrder": 35,
    "_isFastLaunch": false,
    "category": "Accelerated computing",
    "gpuNum": 1,
    "hideHardwareSpecs": false,
    "memoryGiB": 61,
    "name": "ml.p3.2xlarge",
    "vcpuNum": 8
   },
   {
    "_defaultOrder": 36,
    "_isFastLaunch": false,
    "category": "Accelerated computing",
    "gpuNum": 4,
    "hideHardwareSpecs": false,
    "memoryGiB": 244,
    "name": "ml.p3.8xlarge",
    "vcpuNum": 32
   },
   {
    "_defaultOrder": 37,
    "_isFastLaunch": false,
    "category": "Accelerated computing",
    "gpuNum": 8,
    "hideHardwareSpecs": false,
    "memoryGiB": 488,
    "name": "ml.p3.16xlarge",
    "vcpuNum": 64
   },
   {
    "_defaultOrder": 38,
    "_isFastLaunch": false,
    "category": "Accelerated computing",
    "gpuNum": 8,
    "hideHardwareSpecs": false,
    "memoryGiB": 768,
    "name": "ml.p3dn.24xlarge",
    "vcpuNum": 96
   },
   {
    "_defaultOrder": 39,
    "_isFastLaunch": false,
    "category": "Memory Optimized",
    "gpuNum": 0,
    "hideHardwareSpecs": false,
    "memoryGiB": 16,
    "name": "ml.r5.large",
    "vcpuNum": 2
   },
   {
    "_defaultOrder": 40,
    "_isFastLaunch": false,
    "category": "Memory Optimized",
    "gpuNum": 0,
    "hideHardwareSpecs": false,
    "memoryGiB": 32,
    "name": "ml.r5.xlarge",
    "vcpuNum": 4
   },
   {
    "_defaultOrder": 41,
    "_isFastLaunch": false,
    "category": "Memory Optimized",
    "gpuNum": 0,
    "hideHardwareSpecs": false,
    "memoryGiB": 64,
    "name": "ml.r5.2xlarge",
    "vcpuNum": 8
   },
   {
    "_defaultOrder": 42,
    "_isFastLaunch": false,
    "category": "Memory Optimized",
    "gpuNum": 0,
    "hideHardwareSpecs": false,
    "memoryGiB": 128,
    "name": "ml.r5.4xlarge",
    "vcpuNum": 16
   },
   {
    "_defaultOrder": 43,
    "_isFastLaunch": false,
    "category": "Memory Optimized",
    "gpuNum": 0,
    "hideHardwareSpecs": false,
    "memoryGiB": 256,
    "name": "ml.r5.8xlarge",
    "vcpuNum": 32
   },
   {
    "_defaultOrder": 44,
    "_isFastLaunch": false,
    "category": "Memory Optimized",
    "gpuNum": 0,
    "hideHardwareSpecs": false,
    "memoryGiB": 384,
    "name": "ml.r5.12xlarge",
    "vcpuNum": 48
   },
   {
    "_defaultOrder": 45,
    "_isFastLaunch": false,
    "category": "Memory Optimized",
    "gpuNum": 0,
    "hideHardwareSpecs": false,
    "memoryGiB": 512,
    "name": "ml.r5.16xlarge",
    "vcpuNum": 64
   },
   {
    "_defaultOrder": 46,
    "_isFastLaunch": false,
    "category": "Memory Optimized",
    "gpuNum": 0,
    "hideHardwareSpecs": false,
    "memoryGiB": 768,
    "name": "ml.r5.24xlarge",
    "vcpuNum": 96
   },
   {
    "_defaultOrder": 47,
    "_isFastLaunch": false,
    "category": "Accelerated computing",
    "gpuNum": 1,
    "hideHardwareSpecs": false,
    "memoryGiB": 16,
    "name": "ml.g5.xlarge",
    "vcpuNum": 4
   },
   {
    "_defaultOrder": 48,
    "_isFastLaunch": false,
    "category": "Accelerated computing",
    "gpuNum": 1,
    "hideHardwareSpecs": false,
    "memoryGiB": 32,
    "name": "ml.g5.2xlarge",
    "vcpuNum": 8
   },
   {
    "_defaultOrder": 49,
    "_isFastLaunch": false,
    "category": "Accelerated computing",
    "gpuNum": 1,
    "hideHardwareSpecs": false,
    "memoryGiB": 64,
    "name": "ml.g5.4xlarge",
    "vcpuNum": 16
   },
   {
    "_defaultOrder": 50,
    "_isFastLaunch": false,
    "category": "Accelerated computing",
    "gpuNum": 1,
    "hideHardwareSpecs": false,
    "memoryGiB": 128,
    "name": "ml.g5.8xlarge",
    "vcpuNum": 32
   },
   {
    "_defaultOrder": 51,
    "_isFastLaunch": false,
    "category": "Accelerated computing",
    "gpuNum": 1,
    "hideHardwareSpecs": false,
    "memoryGiB": 256,
    "name": "ml.g5.16xlarge",
    "vcpuNum": 64
   },
   {
    "_defaultOrder": 52,
    "_isFastLaunch": false,
    "category": "Accelerated computing",
    "gpuNum": 4,
    "hideHardwareSpecs": false,
    "memoryGiB": 192,
    "name": "ml.g5.12xlarge",
    "vcpuNum": 48
   },
   {
    "_defaultOrder": 53,
    "_isFastLaunch": false,
    "category": "Accelerated computing",
    "gpuNum": 4,
    "hideHardwareSpecs": false,
    "memoryGiB": 384,
    "name": "ml.g5.24xlarge",
    "vcpuNum": 96
   },
   {
    "_defaultOrder": 54,
    "_isFastLaunch": false,
    "category": "Accelerated computing",
    "gpuNum": 8,
    "hideHardwareSpecs": false,
    "memoryGiB": 768,
    "name": "ml.g5.48xlarge",
    "vcpuNum": 192
   }
  ],
  "kernelspec": {
   "display_name": "Python 3 (Data Science)",
   "language": "python",
   "name": "python3__SAGEMAKER_INTERNAL__arn:aws:sagemaker:us-east-1:081325390199:image/datascience-1.0"
  },
  "language_info": {
   "codemirror_mode": {
    "name": "ipython",
    "version": 3
   },
   "file_extension": ".py",
   "mimetype": "text/x-python",
   "name": "python",
   "nbconvert_exporter": "python",
   "pygments_lexer": "ipython3",
   "version": "3.7.10"
  }
 },
 "nbformat": 4,
 "nbformat_minor": 5
}
